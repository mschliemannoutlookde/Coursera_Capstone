{
 "cells": [
  {
   "cell_type": "markdown",
   "metadata": {
    "collapsed": true
   },
   "source": [
    "## Assignment Clustering & Segmenting Neighborhoods in the City of Toronto"
   ]
  },
  {
   "cell_type": "markdown",
   "metadata": {},
   "source": [
    "___\n",
    "### Task No.1\n",
    "Prepare a dataframe with wikipedia data about Toronto postal codes, boroughs and neighborhoods"
   ]
  },
  {
   "cell_type": "markdown",
   "metadata": {},
   "source": [
    "##### 1) Retrieve information about Toronto neighborhoods from wikipedia using BeautifulSoup and store it in a list (values[])"
   ]
  },
  {
   "cell_type": "code",
   "execution_count": 1,
   "metadata": {},
   "outputs": [],
   "source": [
    "import requests\n",
    "from bs4 import BeautifulSoup\n",
    "values=[]\n",
    "url='https://en.wikipedia.org/wiki/List_of_postal_codes_of_Canada:_M'\n",
    "\n",
    "results = requests.get(url)\n",
    "\n",
    "soup = BeautifulSoup(results.text, 'html.parser')\n",
    "\n",
    "for cell in soup.find_all('td'):\n",
    "    values.append(cell.string) if (cell.a==None) else values.append(cell.a.string)"
   ]
  },
  {
   "cell_type": "markdown",
   "metadata": {},
   "source": [
    "##### 2) slice information from the list into a pandas dataframe"
   ]
  },
  {
   "cell_type": "code",
   "execution_count": 2,
   "metadata": {},
   "outputs": [
    {
     "data": {
      "text/html": [
       "<div>\n",
       "<style scoped>\n",
       "    .dataframe tbody tr th:only-of-type {\n",
       "        vertical-align: middle;\n",
       "    }\n",
       "\n",
       "    .dataframe tbody tr th {\n",
       "        vertical-align: top;\n",
       "    }\n",
       "\n",
       "    .dataframe thead th {\n",
       "        text-align: right;\n",
       "    }\n",
       "</style>\n",
       "<table border=\"1\" class=\"dataframe\">\n",
       "  <thead>\n",
       "    <tr style=\"text-align: right;\">\n",
       "      <th></th>\n",
       "      <th>PostalCode</th>\n",
       "      <th>Borough</th>\n",
       "      <th>Neighborhood</th>\n",
       "    </tr>\n",
       "  </thead>\n",
       "  <tbody>\n",
       "    <tr>\n",
       "      <th>0</th>\n",
       "      <td>M1A</td>\n",
       "      <td>Not assigned</td>\n",
       "      <td>Not assigned</td>\n",
       "    </tr>\n",
       "    <tr>\n",
       "      <th>1</th>\n",
       "      <td>M2A</td>\n",
       "      <td>Not assigned</td>\n",
       "      <td>Not assigned</td>\n",
       "    </tr>\n",
       "    <tr>\n",
       "      <th>2</th>\n",
       "      <td>M3A</td>\n",
       "      <td>North York</td>\n",
       "      <td>Parkwoods</td>\n",
       "    </tr>\n",
       "    <tr>\n",
       "      <th>3</th>\n",
       "      <td>M4A</td>\n",
       "      <td>North York</td>\n",
       "      <td>Victoria Village</td>\n",
       "    </tr>\n",
       "    <tr>\n",
       "      <th>4</th>\n",
       "      <td>M5A</td>\n",
       "      <td>Downtown Toronto</td>\n",
       "      <td>Harbourfront</td>\n",
       "    </tr>\n",
       "  </tbody>\n",
       "</table>\n",
       "</div>"
      ],
      "text/plain": [
       "  PostalCode           Borough      Neighborhood\n",
       "0        M1A      Not assigned     Not assigned\n",
       "\n",
       "1        M2A      Not assigned     Not assigned\n",
       "\n",
       "2        M3A        North York         Parkwoods\n",
       "3        M4A        North York  Victoria Village\n",
       "4        M5A  Downtown Toronto      Harbourfront"
      ]
     },
     "execution_count": 2,
     "metadata": {},
     "output_type": "execute_result"
    }
   ],
   "source": [
    "import pandas as pd\n",
    "\n",
    "zip_values=pd.DataFrame()\n",
    "zip_values['PostalCode']=values[0:867:3]\n",
    "zip_values['Borough']=values[1:867:3]\n",
    "zip_values['Neighborhood']=values[2:867:3]\n",
    "zip_values.head()"
   ]
  },
  {
   "cell_type": "markdown",
   "metadata": {},
   "source": [
    "##### 3) Drop rows with boroughs = 'Not assigned' / 4) copy borough's name to neighborhoods with 'Not assigned' / 5) combine rows with same neighborhood"
   ]
  },
  {
   "cell_type": "code",
   "execution_count": 3,
   "metadata": {},
   "outputs": [],
   "source": [
    "# drop rows\n",
    "drop_indices=zip_values[zip_values['Borough']=='Not assigned'].index\n",
    "zip_values.drop(drop_indices, axis=0, inplace=True)\n",
    "\n",
    "# copy borough names\n",
    "copy_indices=zip_values[zip_values['Neighborhood']=='Not assigned\\n'].index\n",
    "zip_values.loc[copy_indices,'Neighborhood']=zip_values.loc[copy_indices,'Borough']\n",
    "\n",
    "# combine neighborhood names\n",
    "values=[]\n",
    "for name, group in zip_values.groupby(zip_values['PostalCode']):\n",
    "    values.append([name,group.iloc[0,1],', '.join(group['Neighborhood'].values.tolist()).replace('\\n','')]) \n",
    "zip_values_new=pd.DataFrame(values, columns=['PostalCode', 'Borough', 'Neighborhood'])"
   ]
  },
  {
   "cell_type": "markdown",
   "metadata": {},
   "source": [
    "##### final dataframe (first 10 rows)"
   ]
  },
  {
   "cell_type": "code",
   "execution_count": 4,
   "metadata": {},
   "outputs": [
    {
     "data": {
      "text/html": [
       "<div>\n",
       "<style scoped>\n",
       "    .dataframe tbody tr th:only-of-type {\n",
       "        vertical-align: middle;\n",
       "    }\n",
       "\n",
       "    .dataframe tbody tr th {\n",
       "        vertical-align: top;\n",
       "    }\n",
       "\n",
       "    .dataframe thead th {\n",
       "        text-align: right;\n",
       "    }\n",
       "</style>\n",
       "<table border=\"1\" class=\"dataframe\">\n",
       "  <thead>\n",
       "    <tr style=\"text-align: right;\">\n",
       "      <th></th>\n",
       "      <th>PostalCode</th>\n",
       "      <th>Borough</th>\n",
       "      <th>Neighborhood</th>\n",
       "    </tr>\n",
       "  </thead>\n",
       "  <tbody>\n",
       "    <tr>\n",
       "      <th>0</th>\n",
       "      <td>M1B</td>\n",
       "      <td>Scarborough</td>\n",
       "      <td>Rouge, Malvern</td>\n",
       "    </tr>\n",
       "    <tr>\n",
       "      <th>1</th>\n",
       "      <td>M1C</td>\n",
       "      <td>Scarborough</td>\n",
       "      <td>Highland Creek, Rouge Hill, Port Union</td>\n",
       "    </tr>\n",
       "    <tr>\n",
       "      <th>2</th>\n",
       "      <td>M1E</td>\n",
       "      <td>Scarborough</td>\n",
       "      <td>Guildwood, Morningside, West Hill</td>\n",
       "    </tr>\n",
       "    <tr>\n",
       "      <th>3</th>\n",
       "      <td>M1G</td>\n",
       "      <td>Scarborough</td>\n",
       "      <td>Woburn</td>\n",
       "    </tr>\n",
       "    <tr>\n",
       "      <th>4</th>\n",
       "      <td>M1H</td>\n",
       "      <td>Scarborough</td>\n",
       "      <td>Cedarbrae</td>\n",
       "    </tr>\n",
       "    <tr>\n",
       "      <th>5</th>\n",
       "      <td>M1J</td>\n",
       "      <td>Scarborough</td>\n",
       "      <td>Scarborough Village</td>\n",
       "    </tr>\n",
       "    <tr>\n",
       "      <th>6</th>\n",
       "      <td>M1K</td>\n",
       "      <td>Scarborough</td>\n",
       "      <td>East Birchmount Park, Ionview, Kennedy Park</td>\n",
       "    </tr>\n",
       "    <tr>\n",
       "      <th>7</th>\n",
       "      <td>M1L</td>\n",
       "      <td>Scarborough</td>\n",
       "      <td>Clairlea, Golden Mile, Oakridge</td>\n",
       "    </tr>\n",
       "    <tr>\n",
       "      <th>8</th>\n",
       "      <td>M1M</td>\n",
       "      <td>Scarborough</td>\n",
       "      <td>Cliffcrest, Cliffside, Scarborough Village West</td>\n",
       "    </tr>\n",
       "    <tr>\n",
       "      <th>9</th>\n",
       "      <td>M1N</td>\n",
       "      <td>Scarborough</td>\n",
       "      <td>Birch Cliff, Cliffside West</td>\n",
       "    </tr>\n",
       "  </tbody>\n",
       "</table>\n",
       "</div>"
      ],
      "text/plain": [
       "  PostalCode      Borough                                     Neighborhood\n",
       "0        M1B  Scarborough                                   Rouge, Malvern\n",
       "1        M1C  Scarborough           Highland Creek, Rouge Hill, Port Union\n",
       "2        M1E  Scarborough                Guildwood, Morningside, West Hill\n",
       "3        M1G  Scarborough                                           Woburn\n",
       "4        M1H  Scarborough                                        Cedarbrae\n",
       "5        M1J  Scarborough                              Scarborough Village\n",
       "6        M1K  Scarborough      East Birchmount Park, Ionview, Kennedy Park\n",
       "7        M1L  Scarborough                  Clairlea, Golden Mile, Oakridge\n",
       "8        M1M  Scarborough  Cliffcrest, Cliffside, Scarborough Village West\n",
       "9        M1N  Scarborough                      Birch Cliff, Cliffside West"
      ]
     },
     "execution_count": 4,
     "metadata": {},
     "output_type": "execute_result"
    }
   ],
   "source": [
    "zip_values_new.head(10)"
   ]
  },
  {
   "cell_type": "markdown",
   "metadata": {},
   "source": [
    "##### shape of dataframe: 103 rows / 3 columns"
   ]
  },
  {
   "cell_type": "code",
   "execution_count": 5,
   "metadata": {},
   "outputs": [
    {
     "data": {
      "text/plain": [
       "(103, 3)"
      ]
     },
     "execution_count": 5,
     "metadata": {},
     "output_type": "execute_result"
    }
   ],
   "source": [
    "zip_values_new.shape"
   ]
  },
  {
   "cell_type": "markdown",
   "metadata": {},
   "source": [
    "___\n",
    "### Task No.2\n",
    "Add geographical coordinates to each row of the dataset"
   ]
  },
  {
   "cell_type": "code",
   "execution_count": 6,
   "metadata": {},
   "outputs": [
    {
     "name": "stdout",
     "output_type": "stream",
     "text": [
      "--2019-01-02 09:42:46--  http://cocl.us/Geospatial_data\n",
      "Resolving cocl.us (cocl.us)... 159.8.72.228\n",
      "Connecting to cocl.us (cocl.us)|159.8.72.228|:80... connected.\n",
      "HTTP request sent, awaiting response... 301 Moved Permanently\n",
      "Location: https://cocl.us/Geospatial_data [following]\n",
      "--2019-01-02 09:42:46--  https://cocl.us/Geospatial_data\n",
      "Connecting to cocl.us (cocl.us)|159.8.72.228|:443... connected.\n",
      "HTTP request sent, awaiting response... 301 Moved Permanently\n",
      "Location: https://ibm.box.com/shared/static/9afzr83pps4pwf2smjjcf1y5mvgb18rr.csv [following]\n",
      "--2019-01-02 09:42:47--  https://ibm.box.com/shared/static/9afzr83pps4pwf2smjjcf1y5mvgb18rr.csv\n",
      "Resolving ibm.box.com (ibm.box.com)... 107.152.24.197\n",
      "Connecting to ibm.box.com (ibm.box.com)|107.152.24.197|:443... connected.\n",
      "HTTP request sent, awaiting response... 301 Moved Permanently\n",
      "Location: https://ibm.ent.box.com/shared/static/9afzr83pps4pwf2smjjcf1y5mvgb18rr.csv [following]\n",
      "--2019-01-02 09:42:48--  https://ibm.ent.box.com/shared/static/9afzr83pps4pwf2smjjcf1y5mvgb18rr.csv\n",
      "Resolving ibm.ent.box.com (ibm.ent.box.com)... 107.152.24.211, 107.152.25.211\n",
      "Connecting to ibm.ent.box.com (ibm.ent.box.com)|107.152.24.211|:443... connected.\n",
      "HTTP request sent, awaiting response... 302 Found\n",
      "Location: https://public.boxcloud.com/d/1/b1!j5VWnz85EbNglwWsGtMYGuC_LnYnZzeU7KD4-u6zMJKv-dzUyKvBqSgQq_L5xmJ_zbQHDqKeNEGW9xeYE47qEAqQIKpOg6zXCz1wRch5VQlxVVToCYSaKgEC01nhFy6dU_GPA5qgGagL_wgZ2t5eXshcThxvmN2Vw51_dbvtvRYZguk1WKvWDJqM5oxAgVaG84TfIvIV50p1DzAqIH8j3rSidzfxxX7krLu14HmCuxHgvZK3fp9ToLUrUrGzykcnthFePkPRTpsjr63p6j7IY-Iidr6_oss3cKFSZpC92AcmP9mkOhfTFcVisjBcXtC9e-IJ-k0_uTKiJvmcqzB7JuNERP0WyrGP9-C3AWQ4avQibKUbiEn18wfHkirmI-TYqJgIb7KXax81aiziutHubQ-QFgrgezCjz-uCUGxAdRd5vnTW5xqte3XYC7lN4NYpm4D7JfwqhnCBF_fv8iNCCvRJRD3FM6jsI7pCouIk5UftY24OQo-vCXosc3hBRjKP8Ts1OSshFXlNcHIZYlWF1aM8lHmxKsqOiQytjlDrRb66Wk5tJrP_DYlWaX1mlwJOBj-VN5dHJo3l3K7zAtlYj3OBnW7MFoeg-v9PmT0YBgxknlct0Zwy254iNbWa5KG4nMVrjax81OsEETdFzf91rPATvBVkDWc7Mx_9DbUKlmiENXjb8EVAo4AMCmHiKisZ0ZnL9COrDcFudp249l6Bom0vzfZOigDhnTsSiSnkdU0a-Um81GuTdadQievuL7WWKYuLj2ZDj0OteI_r2Ozlns7-9cNv4fc7Llp8h6-3U0oeI-kUn_N4O5FBhSm8r97c76i9zrPv7EHNaub9WUF4miy_hiQ0WXLiY-53mpK1tKkCL9GU4mbAQ5nQLgsWCXpadsVCyPdFD2jvA24zAi3w052rXoWPcpFJ0p3UWeKqM9_8a2flThnqhTc8dU7pmybLTAjJPw5MDJPez7dexdXKYIeo6h3VFIDXKIpKrXNVvAKEJ6II7GuQ0-v87n4pBy_0Pk19LTZMmROvdrbLWX-RJ7OxJYJMox3bf3Cw-qFucvPufmk-LMwsHZsQwXz6lMJUbEA49LATyK-izy3SMNEurfRGI8DGx7dFnGSQud37iLv9q7eEY9gJzsTQ_VxUyQBXnNfBCFq3zqEIePLD3t_YPQjHGJCxNToj1Z_a96NxQh8SMhLrIdir8yx6PoQjs_mWG89pN6Iy1LQgla3eDbZcfocczKoAEuJYMc6KQa7WqapyNl1sv9DzIZLgsNgMRxj8wwxnN1fC_vd-8bX6yeaQu3M-AugZFKhcT6khVhVKapvx-NJkiS-KEYWGwSq1crZOFJ_aCzbdFlunnmNvGzPm3qzfmj5yF7u_byBK116DYH0K-w../download [following]\n",
      "--2019-01-02 09:42:48--  https://public.boxcloud.com/d/1/b1!j5VWnz85EbNglwWsGtMYGuC_LnYnZzeU7KD4-u6zMJKv-dzUyKvBqSgQq_L5xmJ_zbQHDqKeNEGW9xeYE47qEAqQIKpOg6zXCz1wRch5VQlxVVToCYSaKgEC01nhFy6dU_GPA5qgGagL_wgZ2t5eXshcThxvmN2Vw51_dbvtvRYZguk1WKvWDJqM5oxAgVaG84TfIvIV50p1DzAqIH8j3rSidzfxxX7krLu14HmCuxHgvZK3fp9ToLUrUrGzykcnthFePkPRTpsjr63p6j7IY-Iidr6_oss3cKFSZpC92AcmP9mkOhfTFcVisjBcXtC9e-IJ-k0_uTKiJvmcqzB7JuNERP0WyrGP9-C3AWQ4avQibKUbiEn18wfHkirmI-TYqJgIb7KXax81aiziutHubQ-QFgrgezCjz-uCUGxAdRd5vnTW5xqte3XYC7lN4NYpm4D7JfwqhnCBF_fv8iNCCvRJRD3FM6jsI7pCouIk5UftY24OQo-vCXosc3hBRjKP8Ts1OSshFXlNcHIZYlWF1aM8lHmxKsqOiQytjlDrRb66Wk5tJrP_DYlWaX1mlwJOBj-VN5dHJo3l3K7zAtlYj3OBnW7MFoeg-v9PmT0YBgxknlct0Zwy254iNbWa5KG4nMVrjax81OsEETdFzf91rPATvBVkDWc7Mx_9DbUKlmiENXjb8EVAo4AMCmHiKisZ0ZnL9COrDcFudp249l6Bom0vzfZOigDhnTsSiSnkdU0a-Um81GuTdadQievuL7WWKYuLj2ZDj0OteI_r2Ozlns7-9cNv4fc7Llp8h6-3U0oeI-kUn_N4O5FBhSm8r97c76i9zrPv7EHNaub9WUF4miy_hiQ0WXLiY-53mpK1tKkCL9GU4mbAQ5nQLgsWCXpadsVCyPdFD2jvA24zAi3w052rXoWPcpFJ0p3UWeKqM9_8a2flThnqhTc8dU7pmybLTAjJPw5MDJPez7dexdXKYIeo6h3VFIDXKIpKrXNVvAKEJ6II7GuQ0-v87n4pBy_0Pk19LTZMmROvdrbLWX-RJ7OxJYJMox3bf3Cw-qFucvPufmk-LMwsHZsQwXz6lMJUbEA49LATyK-izy3SMNEurfRGI8DGx7dFnGSQud37iLv9q7eEY9gJzsTQ_VxUyQBXnNfBCFq3zqEIePLD3t_YPQjHGJCxNToj1Z_a96NxQh8SMhLrIdir8yx6PoQjs_mWG89pN6Iy1LQgla3eDbZcfocczKoAEuJYMc6KQa7WqapyNl1sv9DzIZLgsNgMRxj8wwxnN1fC_vd-8bX6yeaQu3M-AugZFKhcT6khVhVKapvx-NJkiS-KEYWGwSq1crZOFJ_aCzbdFlunnmNvGzPm3qzfmj5yF7u_byBK116DYH0K-w../download\n",
      "Resolving public.boxcloud.com (public.boxcloud.com)... 107.152.26.200\n",
      "Connecting to public.boxcloud.com (public.boxcloud.com)|107.152.26.200|:443... connected.\n",
      "HTTP request sent, awaiting response... 200 OK\n",
      "Length: 2891 (2.8K) [text/csv]\n",
      "Saving to: ‘coordinates.csv’\n",
      "\n",
      "100%[======================================>] 2,891       --.-K/s   in 0s      \n",
      "\n",
      "2019-01-02 09:42:49 (247 MB/s) - ‘coordinates.csv’ saved [2891/2891]\n",
      "\n"
     ]
    }
   ],
   "source": [
    "!wget -O coordinates.csv http://cocl.us/Geospatial_data"
   ]
  },
  {
   "cell_type": "markdown",
   "metadata": {},
   "source": [
    "##### 1) load geographical data from csv file to dataframe"
   ]
  },
  {
   "cell_type": "code",
   "execution_count": 7,
   "metadata": {},
   "outputs": [
    {
     "data": {
      "text/html": [
       "<div>\n",
       "<style scoped>\n",
       "    .dataframe tbody tr th:only-of-type {\n",
       "        vertical-align: middle;\n",
       "    }\n",
       "\n",
       "    .dataframe tbody tr th {\n",
       "        vertical-align: top;\n",
       "    }\n",
       "\n",
       "    .dataframe thead th {\n",
       "        text-align: right;\n",
       "    }\n",
       "</style>\n",
       "<table border=\"1\" class=\"dataframe\">\n",
       "  <thead>\n",
       "    <tr style=\"text-align: right;\">\n",
       "      <th></th>\n",
       "      <th>Postal Code</th>\n",
       "      <th>Latitude</th>\n",
       "      <th>Longitude</th>\n",
       "    </tr>\n",
       "  </thead>\n",
       "  <tbody>\n",
       "    <tr>\n",
       "      <th>0</th>\n",
       "      <td>M1B</td>\n",
       "      <td>43.806686</td>\n",
       "      <td>-79.194353</td>\n",
       "    </tr>\n",
       "    <tr>\n",
       "      <th>1</th>\n",
       "      <td>M1C</td>\n",
       "      <td>43.784535</td>\n",
       "      <td>-79.160497</td>\n",
       "    </tr>\n",
       "    <tr>\n",
       "      <th>2</th>\n",
       "      <td>M1E</td>\n",
       "      <td>43.763573</td>\n",
       "      <td>-79.188711</td>\n",
       "    </tr>\n",
       "    <tr>\n",
       "      <th>3</th>\n",
       "      <td>M1G</td>\n",
       "      <td>43.770992</td>\n",
       "      <td>-79.216917</td>\n",
       "    </tr>\n",
       "    <tr>\n",
       "      <th>4</th>\n",
       "      <td>M1H</td>\n",
       "      <td>43.773136</td>\n",
       "      <td>-79.239476</td>\n",
       "    </tr>\n",
       "  </tbody>\n",
       "</table>\n",
       "</div>"
      ],
      "text/plain": [
       "  Postal Code   Latitude  Longitude\n",
       "0         M1B  43.806686 -79.194353\n",
       "1         M1C  43.784535 -79.160497\n",
       "2         M1E  43.763573 -79.188711\n",
       "3         M1G  43.770992 -79.216917\n",
       "4         M1H  43.773136 -79.239476"
      ]
     },
     "execution_count": 7,
     "metadata": {},
     "output_type": "execute_result"
    }
   ],
   "source": [
    "coordinates = pd.read_csv('coordinates.csv')\n",
    "coordinates.head()"
   ]
  },
  {
   "cell_type": "markdown",
   "metadata": {},
   "source": [
    "##### 2) check, if the postal codes in both dataframes are identical"
   ]
  },
  {
   "cell_type": "code",
   "execution_count": 8,
   "metadata": {},
   "outputs": [
    {
     "data": {
      "text/plain": [
       "array([ True,  True,  True,  True,  True,  True,  True,  True,  True,\n",
       "        True,  True,  True,  True,  True,  True,  True,  True,  True,\n",
       "        True,  True,  True,  True,  True,  True,  True,  True,  True,\n",
       "        True,  True,  True,  True,  True,  True,  True,  True,  True,\n",
       "        True,  True,  True,  True,  True,  True,  True,  True,  True,\n",
       "        True,  True,  True,  True,  True,  True,  True,  True,  True,\n",
       "        True,  True,  True,  True,  True,  True,  True,  True,  True,\n",
       "        True,  True,  True,  True,  True,  True,  True,  True,  True,\n",
       "        True,  True,  True,  True,  True,  True,  True,  True,  True,\n",
       "        True,  True,  True,  True,  True,  True,  True,  True,  True,\n",
       "        True,  True,  True,  True,  True,  True,  True,  True,  True,\n",
       "        True,  True,  True,  True], dtype=bool)"
      ]
     },
     "execution_count": 8,
     "metadata": {},
     "output_type": "execute_result"
    }
   ],
   "source": [
    "(zip_values_new['PostalCode']==coordinates['Postal Code']).values"
   ]
  },
  {
   "cell_type": "markdown",
   "metadata": {},
   "source": [
    "##### Yes, they are identical. So we can simply add the columns 'Latitude' and 'Longitude' to the Toronto's neighborhoods dataframe"
   ]
  },
  {
   "cell_type": "code",
   "execution_count": 9,
   "metadata": {},
   "outputs": [
    {
     "data": {
      "text/html": [
       "<div>\n",
       "<style scoped>\n",
       "    .dataframe tbody tr th:only-of-type {\n",
       "        vertical-align: middle;\n",
       "    }\n",
       "\n",
       "    .dataframe tbody tr th {\n",
       "        vertical-align: top;\n",
       "    }\n",
       "\n",
       "    .dataframe thead th {\n",
       "        text-align: right;\n",
       "    }\n",
       "</style>\n",
       "<table border=\"1\" class=\"dataframe\">\n",
       "  <thead>\n",
       "    <tr style=\"text-align: right;\">\n",
       "      <th></th>\n",
       "      <th>PostalCode</th>\n",
       "      <th>Borough</th>\n",
       "      <th>Neighborhood</th>\n",
       "      <th>Latitude</th>\n",
       "      <th>Longitude</th>\n",
       "    </tr>\n",
       "  </thead>\n",
       "  <tbody>\n",
       "    <tr>\n",
       "      <th>0</th>\n",
       "      <td>M1B</td>\n",
       "      <td>Scarborough</td>\n",
       "      <td>Rouge, Malvern</td>\n",
       "      <td>43.806686</td>\n",
       "      <td>-79.194353</td>\n",
       "    </tr>\n",
       "    <tr>\n",
       "      <th>1</th>\n",
       "      <td>M1C</td>\n",
       "      <td>Scarborough</td>\n",
       "      <td>Highland Creek, Rouge Hill, Port Union</td>\n",
       "      <td>43.784535</td>\n",
       "      <td>-79.160497</td>\n",
       "    </tr>\n",
       "    <tr>\n",
       "      <th>2</th>\n",
       "      <td>M1E</td>\n",
       "      <td>Scarborough</td>\n",
       "      <td>Guildwood, Morningside, West Hill</td>\n",
       "      <td>43.763573</td>\n",
       "      <td>-79.188711</td>\n",
       "    </tr>\n",
       "    <tr>\n",
       "      <th>3</th>\n",
       "      <td>M1G</td>\n",
       "      <td>Scarborough</td>\n",
       "      <td>Woburn</td>\n",
       "      <td>43.770992</td>\n",
       "      <td>-79.216917</td>\n",
       "    </tr>\n",
       "    <tr>\n",
       "      <th>4</th>\n",
       "      <td>M1H</td>\n",
       "      <td>Scarborough</td>\n",
       "      <td>Cedarbrae</td>\n",
       "      <td>43.773136</td>\n",
       "      <td>-79.239476</td>\n",
       "    </tr>\n",
       "    <tr>\n",
       "      <th>5</th>\n",
       "      <td>M1J</td>\n",
       "      <td>Scarborough</td>\n",
       "      <td>Scarborough Village</td>\n",
       "      <td>43.744734</td>\n",
       "      <td>-79.239476</td>\n",
       "    </tr>\n",
       "    <tr>\n",
       "      <th>6</th>\n",
       "      <td>M1K</td>\n",
       "      <td>Scarborough</td>\n",
       "      <td>East Birchmount Park, Ionview, Kennedy Park</td>\n",
       "      <td>43.727929</td>\n",
       "      <td>-79.262029</td>\n",
       "    </tr>\n",
       "    <tr>\n",
       "      <th>7</th>\n",
       "      <td>M1L</td>\n",
       "      <td>Scarborough</td>\n",
       "      <td>Clairlea, Golden Mile, Oakridge</td>\n",
       "      <td>43.711112</td>\n",
       "      <td>-79.284577</td>\n",
       "    </tr>\n",
       "    <tr>\n",
       "      <th>8</th>\n",
       "      <td>M1M</td>\n",
       "      <td>Scarborough</td>\n",
       "      <td>Cliffcrest, Cliffside, Scarborough Village West</td>\n",
       "      <td>43.716316</td>\n",
       "      <td>-79.239476</td>\n",
       "    </tr>\n",
       "    <tr>\n",
       "      <th>9</th>\n",
       "      <td>M1N</td>\n",
       "      <td>Scarborough</td>\n",
       "      <td>Birch Cliff, Cliffside West</td>\n",
       "      <td>43.692657</td>\n",
       "      <td>-79.264848</td>\n",
       "    </tr>\n",
       "  </tbody>\n",
       "</table>\n",
       "</div>"
      ],
      "text/plain": [
       "  PostalCode      Borough                                     Neighborhood  \\\n",
       "0        M1B  Scarborough                                   Rouge, Malvern   \n",
       "1        M1C  Scarborough           Highland Creek, Rouge Hill, Port Union   \n",
       "2        M1E  Scarborough                Guildwood, Morningside, West Hill   \n",
       "3        M1G  Scarborough                                           Woburn   \n",
       "4        M1H  Scarborough                                        Cedarbrae   \n",
       "5        M1J  Scarborough                              Scarborough Village   \n",
       "6        M1K  Scarborough      East Birchmount Park, Ionview, Kennedy Park   \n",
       "7        M1L  Scarborough                  Clairlea, Golden Mile, Oakridge   \n",
       "8        M1M  Scarborough  Cliffcrest, Cliffside, Scarborough Village West   \n",
       "9        M1N  Scarborough                      Birch Cliff, Cliffside West   \n",
       "\n",
       "    Latitude  Longitude  \n",
       "0  43.806686 -79.194353  \n",
       "1  43.784535 -79.160497  \n",
       "2  43.763573 -79.188711  \n",
       "3  43.770992 -79.216917  \n",
       "4  43.773136 -79.239476  \n",
       "5  43.744734 -79.239476  \n",
       "6  43.727929 -79.262029  \n",
       "7  43.711112 -79.284577  \n",
       "8  43.716316 -79.239476  \n",
       "9  43.692657 -79.264848  "
      ]
     },
     "execution_count": 9,
     "metadata": {},
     "output_type": "execute_result"
    }
   ],
   "source": [
    "zip_values_new['Latitude']=coordinates['Latitude']\n",
    "zip_values_new['Longitude']=coordinates['Longitude']\n",
    "zip_values_new.head(10)"
   ]
  },
  {
   "cell_type": "markdown",
   "metadata": {},
   "source": [
    "___\n",
    "### Task No.3\n",
    "Explore and cluster the neighborhoods of Toronto"
   ]
  },
  {
   "cell_type": "code",
   "execution_count": 10,
   "metadata": {},
   "outputs": [
    {
     "name": "stdout",
     "output_type": "stream",
     "text": [
      "The geograpical coordinate of Toronto are 43.653963, -79.387207.\n"
     ]
    }
   ],
   "source": [
    "from geopy.geocoders import Nominatim\n",
    "address = 'Toronto, Canada'\n",
    "\n",
    "geolocator = Nominatim()\n",
    "location = geolocator.geocode(address)\n",
    "latitude = location.latitude\n",
    "longitude = location.longitude\n",
    "print('The geograpical coordinate of Toronto are {}, {}.'.format(latitude, longitude))"
   ]
  },
  {
   "cell_type": "code",
   "execution_count": 11,
   "metadata": {},
   "outputs": [
    {
     "name": "stdout",
     "output_type": "stream",
     "text": [
      "Fetching package metadata .............\n",
      "Solving package specifications: .\n",
      "\n",
      "# All requested packages already installed.\n",
      "# packages in environment at /opt/conda/envs/DSX-Python35:\n",
      "#\n",
      "folium                    0.5.0                      py_0    conda-forge\n"
     ]
    },
    {
     "data": {
      "text/html": [
       "<div style=\"width:100%;\"><div style=\"position:relative;width:100%;height:0;padding-bottom:60%;\"><iframe src=\"data:text/html;charset=utf-8;base64,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\" style=\"position:absolute;width:100%;height:100%;left:0;top:0;border:none !important;\" allowfullscreen webkitallowfullscreen mozallowfullscreen></iframe></div></div>"
      ],
      "text/plain": [
       "<folium.folium.Map at 0x2b3f3721b6d8>"
      ]
     },
     "execution_count": 11,
     "metadata": {},
     "output_type": "execute_result"
    }
   ],
   "source": [
    "!conda install -c conda-forge folium=0.5.0 --yes # uncomment this line if you haven't completed the Foursquare API lab\n",
    "import folium\n",
    "# create map of Toronto using latitude and longitude values\n",
    "map_toronto = folium.Map(location=[latitude, longitude], zoom_start=10)\n",
    "\n",
    "# add markers to map\n",
    "for lat, lng, borough, neighborhood in zip(zip_values_new['Latitude'], zip_values_new['Longitude'], zip_values_new['Borough'], zip_values_new['Neighborhood']):\n",
    "    label = '{} ({})'.format(neighborhood, borough)\n",
    "    label = folium.Popup(label, parse_html=True)\n",
    "    marker=folium.CircleMarker(\n",
    "        [lat, lng],\n",
    "        radius=5,\n",
    "        popup=label,\n",
    "        color='blue',\n",
    "        fill=True,\n",
    "        fill_color='#3186cc',\n",
    "        fill_opacity=0.7,\n",
    "        parse_html=False).add_to(map_toronto)  \n",
    "   \n",
    "map_toronto"
   ]
  },
  {
   "cell_type": "markdown",
   "metadata": {},
   "source": [
    "#####  Explore subset of data. Boroughs must contain the string 'Toronto'"
   ]
  },
  {
   "cell_type": "code",
   "execution_count": 12,
   "metadata": {},
   "outputs": [
    {
     "data": {
      "text/html": [
       "<div>\n",
       "<style scoped>\n",
       "    .dataframe tbody tr th:only-of-type {\n",
       "        vertical-align: middle;\n",
       "    }\n",
       "\n",
       "    .dataframe tbody tr th {\n",
       "        vertical-align: top;\n",
       "    }\n",
       "\n",
       "    .dataframe thead th {\n",
       "        text-align: right;\n",
       "    }\n",
       "</style>\n",
       "<table border=\"1\" class=\"dataframe\">\n",
       "  <thead>\n",
       "    <tr style=\"text-align: right;\">\n",
       "      <th></th>\n",
       "      <th>PostalCode</th>\n",
       "      <th>Borough</th>\n",
       "      <th>Neighborhood</th>\n",
       "      <th>Latitude</th>\n",
       "      <th>Longitude</th>\n",
       "    </tr>\n",
       "  </thead>\n",
       "  <tbody>\n",
       "    <tr>\n",
       "      <th>37</th>\n",
       "      <td>M4E</td>\n",
       "      <td>East Toronto</td>\n",
       "      <td>The Beaches</td>\n",
       "      <td>43.676357</td>\n",
       "      <td>-79.293031</td>\n",
       "    </tr>\n",
       "    <tr>\n",
       "      <th>41</th>\n",
       "      <td>M4K</td>\n",
       "      <td>East Toronto</td>\n",
       "      <td>The Danforth West, Riverdale</td>\n",
       "      <td>43.679557</td>\n",
       "      <td>-79.352188</td>\n",
       "    </tr>\n",
       "    <tr>\n",
       "      <th>42</th>\n",
       "      <td>M4L</td>\n",
       "      <td>East Toronto</td>\n",
       "      <td>The Beaches West, India Bazaar</td>\n",
       "      <td>43.668999</td>\n",
       "      <td>-79.315572</td>\n",
       "    </tr>\n",
       "    <tr>\n",
       "      <th>43</th>\n",
       "      <td>M4M</td>\n",
       "      <td>East Toronto</td>\n",
       "      <td>Studio District</td>\n",
       "      <td>43.659526</td>\n",
       "      <td>-79.340923</td>\n",
       "    </tr>\n",
       "    <tr>\n",
       "      <th>44</th>\n",
       "      <td>M4N</td>\n",
       "      <td>Central Toronto</td>\n",
       "      <td>Lawrence Park</td>\n",
       "      <td>43.728020</td>\n",
       "      <td>-79.388790</td>\n",
       "    </tr>\n",
       "  </tbody>\n",
       "</table>\n",
       "</div>"
      ],
      "text/plain": [
       "   PostalCode          Borough                    Neighborhood   Latitude  \\\n",
       "37        M4E     East Toronto                     The Beaches  43.676357   \n",
       "41        M4K     East Toronto    The Danforth West, Riverdale  43.679557   \n",
       "42        M4L     East Toronto  The Beaches West, India Bazaar  43.668999   \n",
       "43        M4M     East Toronto                 Studio District  43.659526   \n",
       "44        M4N  Central Toronto                   Lawrence Park  43.728020   \n",
       "\n",
       "    Longitude  \n",
       "37 -79.293031  \n",
       "41 -79.352188  \n",
       "42 -79.315572  \n",
       "43 -79.340923  \n",
       "44 -79.388790  "
      ]
     },
     "execution_count": 12,
     "metadata": {},
     "output_type": "execute_result"
    }
   ],
   "source": [
    "# create a dataframe only with Boroughs containing 'Toronto'\n",
    "toronto_data=zip_values_new[zip_values_new['Borough'].str.contains('Toronto', regex=False)]\n",
    "toronto_data.head()"
   ]
  },
  {
   "cell_type": "markdown",
   "metadata": {},
   "source": [
    "##### prepare toronto_data, so that it fits the next steps"
   ]
  },
  {
   "cell_type": "code",
   "execution_count": 13,
   "metadata": {},
   "outputs": [
    {
     "data": {
      "text/html": [
       "<div>\n",
       "<style scoped>\n",
       "    .dataframe tbody tr th:only-of-type {\n",
       "        vertical-align: middle;\n",
       "    }\n",
       "\n",
       "    .dataframe tbody tr th {\n",
       "        vertical-align: top;\n",
       "    }\n",
       "\n",
       "    .dataframe thead th {\n",
       "        text-align: right;\n",
       "    }\n",
       "</style>\n",
       "<table border=\"1\" class=\"dataframe\">\n",
       "  <thead>\n",
       "    <tr style=\"text-align: right;\">\n",
       "      <th></th>\n",
       "      <th>Neighborhood</th>\n",
       "      <th>Latitude</th>\n",
       "      <th>Longitude</th>\n",
       "    </tr>\n",
       "  </thead>\n",
       "  <tbody>\n",
       "    <tr>\n",
       "      <th>0</th>\n",
       "      <td>Adelaide, King, Richmond</td>\n",
       "      <td>43.650571</td>\n",
       "      <td>-79.384568</td>\n",
       "    </tr>\n",
       "    <tr>\n",
       "      <th>1</th>\n",
       "      <td>Berczy Park</td>\n",
       "      <td>43.644771</td>\n",
       "      <td>-79.373306</td>\n",
       "    </tr>\n",
       "    <tr>\n",
       "      <th>2</th>\n",
       "      <td>Brockton, Exhibition Place, Parkdale Village</td>\n",
       "      <td>43.636847</td>\n",
       "      <td>-79.428191</td>\n",
       "    </tr>\n",
       "    <tr>\n",
       "      <th>3</th>\n",
       "      <td>Business reply mail Processing Centre969 Eastern</td>\n",
       "      <td>43.662744</td>\n",
       "      <td>-79.321558</td>\n",
       "    </tr>\n",
       "    <tr>\n",
       "      <th>4</th>\n",
       "      <td>CN Tower, Bathurst Quay, Island airport, Harbo...</td>\n",
       "      <td>43.628947</td>\n",
       "      <td>-79.394420</td>\n",
       "    </tr>\n",
       "  </tbody>\n",
       "</table>\n",
       "</div>"
      ],
      "text/plain": [
       "                                        Neighborhood   Latitude  Longitude\n",
       "0                           Adelaide, King, Richmond  43.650571 -79.384568\n",
       "1                                        Berczy Park  43.644771 -79.373306\n",
       "2       Brockton, Exhibition Place, Parkdale Village  43.636847 -79.428191\n",
       "3   Business reply mail Processing Centre969 Eastern  43.662744 -79.321558\n",
       "4  CN Tower, Bathurst Quay, Island airport, Harbo...  43.628947 -79.394420"
      ]
     },
     "execution_count": 13,
     "metadata": {},
     "output_type": "execute_result"
    }
   ],
   "source": [
    "toronto_data=toronto_data.iloc[:,2:].sort_values(by=['Neighborhood']).reset_index(drop=True)\n",
    "toronto_data.head()"
   ]
  },
  {
   "cell_type": "markdown",
   "metadata": {},
   "source": [
    "##### use the function from the course lab to get the top 100 venues for each neighborhood from toronto_data"
   ]
  },
  {
   "cell_type": "code",
   "execution_count": 14,
   "metadata": {},
   "outputs": [],
   "source": [
    "def getNearbyVenues(names, latitudes, longitudes, radius=500):\n",
    "    \n",
    "    venues_list=[]\n",
    "    for name, lat, lng in zip(names, latitudes, longitudes):\n",
    "        print(name)\n",
    "            \n",
    "        # create the API request URL\n",
    "        url = 'https://api.foursquare.com/v2/venues/explore?&client_id={}&client_secret={}&v={}&ll={},{}&radius={}&limit={}'.format(\n",
    "            CLIENT_ID, \n",
    "            CLIENT_SECRET, \n",
    "            VERSION, \n",
    "            lat, \n",
    "            lng, \n",
    "            radius, \n",
    "            LIMIT)\n",
    "            \n",
    "        # make the GET request\n",
    "        try:\n",
    "            results = requests.get(url).json()[\"response\"]['groups'][0]['items']\n",
    "        except:\n",
    "            results = []\n",
    "        \n",
    "        # return only relevant information for each nearby venue\n",
    "        venues_list.append([(\n",
    "            name, \n",
    "            lat, \n",
    "            lng, \n",
    "            v['venue']['name'], \n",
    "            v['venue']['location']['lat'], \n",
    "            v['venue']['location']['lng'],  \n",
    "            v['venue']['categories'][0]['name']) for v in results])\n",
    "\n",
    "    nearby_venues = pd.DataFrame([item for venue_list in venues_list for item in venue_list])\n",
    "    nearby_venues.columns = ['Neighborhood', \n",
    "                  'Neighborhood Latitude', \n",
    "                  'Neighborhood Longitude', \n",
    "                  'Venue', \n",
    "                  'Venue Latitude', \n",
    "                  'Venue Longitude', \n",
    "                  'Venue Category']\n",
    "    \n",
    "    return(nearby_venues)"
   ]
  },
  {
   "cell_type": "markdown",
   "metadata": {},
   "source": [
    "hidden cell ... fousquare credentials"
   ]
  },
  {
   "cell_type": "markdown",
   "metadata": {},
   "source": [
    "##### feed the toronto data into the previous function and get the top 100 venues for each neighborhood"
   ]
  },
  {
   "cell_type": "code",
   "execution_count": 16,
   "metadata": {},
   "outputs": [
    {
     "name": "stdout",
     "output_type": "stream",
     "text": [
      "Adelaide, King, Richmond\n",
      "Berczy Park\n",
      "Brockton, Exhibition Place, Parkdale Village\n",
      "Business reply mail Processing Centre969 Eastern\n",
      "CN Tower, Bathurst Quay, Island airport, Harbourfront West, King and Spadina, Railway Lands, South Niagara\n",
      "Cabbagetown, St. James Town\n",
      "Central Bay Street\n",
      "Chinatown, Grange Park, Kensington Market\n",
      "Christie\n",
      "Church and Wellesley\n",
      "Commerce Court, Victoria Hotel\n",
      "Davisville\n",
      "Davisville North\n",
      "Deer Park, Forest Hill SE, Rathnelly, South Hill, Summerhill West\n",
      "Design Exchange, Toronto Dominion Centre\n",
      "Dovercourt Village, Dufferin\n",
      "First Canadian Place, Underground city\n",
      "Forest Hill North, Forest Hill West\n",
      "Harbord, University of Toronto\n",
      "Harbourfront East, Toronto Islands, Union Station\n",
      "Harbourfront, Regent Park\n",
      "High Park, The Junction South\n",
      "Lawrence Park\n",
      "Little Portugal, Trinity\n",
      "Moore Park, Summerhill East\n",
      "North Toronto West\n",
      "Parkdale, Roncesvalles\n",
      "Rosedale\n",
      "Roselawn\n",
      "Runnymede, Swansea\n",
      "Ryerson, Garden District\n",
      "St. James Town\n",
      "Stn A PO Boxes 25 The Esplanade\n",
      "Studio District\n",
      "The Annex, North Midtown, Yorkville\n",
      "The Beaches\n",
      "The Beaches West, India Bazaar\n",
      "The Danforth West, Riverdale\n"
     ]
    }
   ],
   "source": [
    "toronto_venues = getNearbyVenues(names=toronto_data['Neighborhood'],\n",
    "                                   latitudes=toronto_data['Latitude'],\n",
    "                                   longitudes=toronto_data['Longitude']\n",
    "                                  )"
   ]
  },
  {
   "cell_type": "markdown",
   "metadata": {},
   "source": [
    "##### let's check size and content of the dataframe"
   ]
  },
  {
   "cell_type": "code",
   "execution_count": 17,
   "metadata": {},
   "outputs": [
    {
     "name": "stdout",
     "output_type": "stream",
     "text": [
      "(1701, 7)\n"
     ]
    },
    {
     "data": {
      "text/html": [
       "<div>\n",
       "<style scoped>\n",
       "    .dataframe tbody tr th:only-of-type {\n",
       "        vertical-align: middle;\n",
       "    }\n",
       "\n",
       "    .dataframe tbody tr th {\n",
       "        vertical-align: top;\n",
       "    }\n",
       "\n",
       "    .dataframe thead th {\n",
       "        text-align: right;\n",
       "    }\n",
       "</style>\n",
       "<table border=\"1\" class=\"dataframe\">\n",
       "  <thead>\n",
       "    <tr style=\"text-align: right;\">\n",
       "      <th></th>\n",
       "      <th>Neighborhood</th>\n",
       "      <th>Neighborhood Latitude</th>\n",
       "      <th>Neighborhood Longitude</th>\n",
       "      <th>Venue</th>\n",
       "      <th>Venue Latitude</th>\n",
       "      <th>Venue Longitude</th>\n",
       "      <th>Venue Category</th>\n",
       "    </tr>\n",
       "  </thead>\n",
       "  <tbody>\n",
       "    <tr>\n",
       "      <th>0</th>\n",
       "      <td>Adelaide, King, Richmond</td>\n",
       "      <td>43.650571</td>\n",
       "      <td>-79.384568</td>\n",
       "      <td>Four Seasons Centre for the Performing Arts</td>\n",
       "      <td>43.650609</td>\n",
       "      <td>-79.386280</td>\n",
       "      <td>Concert Hall</td>\n",
       "    </tr>\n",
       "    <tr>\n",
       "      <th>1</th>\n",
       "      <td>Adelaide, King, Richmond</td>\n",
       "      <td>43.650571</td>\n",
       "      <td>-79.384568</td>\n",
       "      <td>Nathan Phillips Square</td>\n",
       "      <td>43.652270</td>\n",
       "      <td>-79.383516</td>\n",
       "      <td>Plaza</td>\n",
       "    </tr>\n",
       "    <tr>\n",
       "      <th>2</th>\n",
       "      <td>Adelaide, King, Richmond</td>\n",
       "      <td>43.650571</td>\n",
       "      <td>-79.384568</td>\n",
       "      <td>The Keg Steakhouse &amp; Bar</td>\n",
       "      <td>43.649937</td>\n",
       "      <td>-79.384196</td>\n",
       "      <td>Steakhouse</td>\n",
       "    </tr>\n",
       "    <tr>\n",
       "      <th>3</th>\n",
       "      <td>Adelaide, King, Richmond</td>\n",
       "      <td>43.650571</td>\n",
       "      <td>-79.384568</td>\n",
       "      <td>Shangri-La Toronto</td>\n",
       "      <td>43.649129</td>\n",
       "      <td>-79.386557</td>\n",
       "      <td>Hotel</td>\n",
       "    </tr>\n",
       "    <tr>\n",
       "      <th>4</th>\n",
       "      <td>Adelaide, King, Richmond</td>\n",
       "      <td>43.650571</td>\n",
       "      <td>-79.384568</td>\n",
       "      <td>Estiatorio Volos</td>\n",
       "      <td>43.650329</td>\n",
       "      <td>-79.384533</td>\n",
       "      <td>Greek Restaurant</td>\n",
       "    </tr>\n",
       "  </tbody>\n",
       "</table>\n",
       "</div>"
      ],
      "text/plain": [
       "               Neighborhood  Neighborhood Latitude  Neighborhood Longitude  \\\n",
       "0  Adelaide, King, Richmond              43.650571              -79.384568   \n",
       "1  Adelaide, King, Richmond              43.650571              -79.384568   \n",
       "2  Adelaide, King, Richmond              43.650571              -79.384568   \n",
       "3  Adelaide, King, Richmond              43.650571              -79.384568   \n",
       "4  Adelaide, King, Richmond              43.650571              -79.384568   \n",
       "\n",
       "                                         Venue  Venue Latitude  \\\n",
       "0  Four Seasons Centre for the Performing Arts       43.650609   \n",
       "1                       Nathan Phillips Square       43.652270   \n",
       "2                     The Keg Steakhouse & Bar       43.649937   \n",
       "3                           Shangri-La Toronto       43.649129   \n",
       "4                             Estiatorio Volos       43.650329   \n",
       "\n",
       "   Venue Longitude    Venue Category  \n",
       "0       -79.386280      Concert Hall  \n",
       "1       -79.383516             Plaza  \n",
       "2       -79.384196        Steakhouse  \n",
       "3       -79.386557             Hotel  \n",
       "4       -79.384533  Greek Restaurant  "
      ]
     },
     "execution_count": 17,
     "metadata": {},
     "output_type": "execute_result"
    }
   ],
   "source": [
    "print(toronto_venues.shape)\n",
    "toronto_venues.head()"
   ]
  },
  {
   "cell_type": "markdown",
   "metadata": {},
   "source": [
    "##### let's see how many venues were found per neighborhood"
   ]
  },
  {
   "cell_type": "code",
   "execution_count": 18,
   "metadata": {},
   "outputs": [
    {
     "data": {
      "text/plain": [
       "Neighborhood\n",
       "Adelaide, King, Richmond                                                                                      100\n",
       "Berczy Park                                                                                                    54\n",
       "Brockton, Exhibition Place, Parkdale Village                                                                   20\n",
       "Business reply mail Processing Centre969 Eastern                                                               17\n",
       "CN Tower, Bathurst Quay, Island airport, Harbourfront West, King and Spadina, Railway Lands, South Niagara     13\n",
       "Cabbagetown, St. James Town                                                                                    49\n",
       "Central Bay Street                                                                                             85\n",
       "Chinatown, Grange Park, Kensington Market                                                                     100\n",
       "Christie                                                                                                       16\n",
       "Church and Wellesley                                                                                           88\n",
       "Commerce Court, Victoria Hotel                                                                                100\n",
       "Davisville                                                                                                     32\n",
       "Davisville North                                                                                                8\n",
       "Deer Park, Forest Hill SE, Rathnelly, South Hill, Summerhill West                                              14\n",
       "Design Exchange, Toronto Dominion Centre                                                                      100\n",
       "Dovercourt Village, Dufferin                                                                                   22\n",
       "First Canadian Place, Underground city                                                                        100\n",
       "Forest Hill North, Forest Hill West                                                                             5\n",
       "Harbord, University of Toronto                                                                                 33\n",
       "Harbourfront East, Toronto Islands, Union Station                                                             100\n",
       "Harbourfront, Regent Park                                                                                      48\n",
       "High Park, The Junction South                                                                                  24\n",
       "Lawrence Park                                                                                                   4\n",
       "Little Portugal, Trinity                                                                                       64\n",
       "Moore Park, Summerhill East                                                                                     3\n",
       "North Toronto West                                                                                             20\n",
       "Parkdale, Roncesvalles                                                                                         16\n",
       "Rosedale                                                                                                        4\n",
       "Roselawn                                                                                                        1\n",
       "Runnymede, Swansea                                                                                             36\n",
       "Ryerson, Garden District                                                                                      100\n",
       "St. James Town                                                                                                100\n",
       "Stn A PO Boxes 25 The Esplanade                                                                                96\n",
       "Studio District                                                                                                39\n",
       "The Annex, North Midtown, Yorkville                                                                            24\n",
       "The Beaches                                                                                                     4\n",
       "The Beaches West, India Bazaar                                                                                 20\n",
       "The Danforth West, Riverdale                                                                                   42\n",
       "Name: Venue, dtype: int64"
      ]
     },
     "execution_count": 18,
     "metadata": {},
     "output_type": "execute_result"
    }
   ],
   "source": [
    "toronto_venues.groupby('Neighborhood').count().iloc[:,2]"
   ]
  },
  {
   "cell_type": "markdown",
   "metadata": {},
   "source": [
    "##### make a dataframe out of it"
   ]
  },
  {
   "cell_type": "code",
   "execution_count": 19,
   "metadata": {},
   "outputs": [
    {
     "data": {
      "text/html": [
       "<div>\n",
       "<style scoped>\n",
       "    .dataframe tbody tr th:only-of-type {\n",
       "        vertical-align: middle;\n",
       "    }\n",
       "\n",
       "    .dataframe tbody tr th {\n",
       "        vertical-align: top;\n",
       "    }\n",
       "\n",
       "    .dataframe thead th {\n",
       "        text-align: right;\n",
       "    }\n",
       "</style>\n",
       "<table border=\"1\" class=\"dataframe\">\n",
       "  <thead>\n",
       "    <tr style=\"text-align: right;\">\n",
       "      <th></th>\n",
       "      <th>Venue</th>\n",
       "    </tr>\n",
       "    <tr>\n",
       "      <th>Neighborhood</th>\n",
       "      <th></th>\n",
       "    </tr>\n",
       "  </thead>\n",
       "  <tbody>\n",
       "    <tr>\n",
       "      <th>Adelaide, King, Richmond</th>\n",
       "      <td>100</td>\n",
       "    </tr>\n",
       "    <tr>\n",
       "      <th>Berczy Park</th>\n",
       "      <td>54</td>\n",
       "    </tr>\n",
       "    <tr>\n",
       "      <th>Brockton, Exhibition Place, Parkdale Village</th>\n",
       "      <td>20</td>\n",
       "    </tr>\n",
       "    <tr>\n",
       "      <th>Business reply mail Processing Centre969 Eastern</th>\n",
       "      <td>17</td>\n",
       "    </tr>\n",
       "    <tr>\n",
       "      <th>CN Tower, Bathurst Quay, Island airport, Harbourfront West, King and Spadina, Railway Lands, South Niagara</th>\n",
       "      <td>13</td>\n",
       "    </tr>\n",
       "  </tbody>\n",
       "</table>\n",
       "</div>"
      ],
      "text/plain": [
       "                                                    Venue\n",
       "Neighborhood                                             \n",
       "Adelaide, King, Richmond                              100\n",
       "Berczy Park                                            54\n",
       "Brockton, Exhibition Place, Parkdale Village           20\n",
       "Business reply mail Processing Centre969 Eastern       17\n",
       "CN Tower, Bathurst Quay, Island airport, Harbou...     13"
      ]
     },
     "execution_count": 19,
     "metadata": {},
     "output_type": "execute_result"
    }
   ],
   "source": [
    "toronto_grouped=pd.DataFrame(toronto_venues.groupby('Neighborhood').count().iloc[:,2])\n",
    "toronto_grouped.head()"
   ]
  },
  {
   "cell_type": "markdown",
   "metadata": {},
   "source": [
    "##### let's cluster the neighborhoods according to the number of venues they have, using K-Means"
   ]
  },
  {
   "cell_type": "code",
   "execution_count": 20,
   "metadata": {},
   "outputs": [
    {
     "data": {
      "text/plain": [
       "array([0, 3, 4, 4, 4, 3, 0, 0, 4, 0, 0, 1, 2, 4, 0, 4, 0, 2, 1, 0, 3, 4, 2,\n",
       "       3, 2, 4, 4, 2, 2, 1, 0, 0, 0, 1, 4, 2, 4, 1], dtype=int32)"
      ]
     },
     "execution_count": 20,
     "metadata": {},
     "output_type": "execute_result"
    }
   ],
   "source": [
    "from sklearn.cluster import KMeans\n",
    "\n",
    "# set number of clusters\n",
    "kclusters = 5\n",
    "\n",
    "# run k-means clustering\n",
    "kmeans = KMeans(n_clusters=kclusters, random_state=0).fit(toronto_grouped)\n",
    "\n",
    "# check cluster labels generated for each row in the dataframe\n",
    "kmeans.labels_"
   ]
  },
  {
   "cell_type": "markdown",
   "metadata": {},
   "source": [
    "##### show neighborhoods together with number of venues and cluster labels."
   ]
  },
  {
   "cell_type": "code",
   "execution_count": 21,
   "metadata": {},
   "outputs": [
    {
     "data": {
      "text/html": [
       "<div>\n",
       "<style scoped>\n",
       "    .dataframe tbody tr th:only-of-type {\n",
       "        vertical-align: middle;\n",
       "    }\n",
       "\n",
       "    .dataframe tbody tr th {\n",
       "        vertical-align: top;\n",
       "    }\n",
       "\n",
       "    .dataframe thead th {\n",
       "        text-align: right;\n",
       "    }\n",
       "</style>\n",
       "<table border=\"1\" class=\"dataframe\">\n",
       "  <thead>\n",
       "    <tr style=\"text-align: right;\">\n",
       "      <th></th>\n",
       "      <th>Neighborhood</th>\n",
       "      <th>Latitude</th>\n",
       "      <th>Longitude</th>\n",
       "      <th>Cluster Labels</th>\n",
       "      <th>number of venues</th>\n",
       "    </tr>\n",
       "  </thead>\n",
       "  <tbody>\n",
       "    <tr>\n",
       "      <th>0</th>\n",
       "      <td>Adelaide, King, Richmond</td>\n",
       "      <td>43.650571</td>\n",
       "      <td>-79.384568</td>\n",
       "      <td>0</td>\n",
       "      <td>100</td>\n",
       "    </tr>\n",
       "    <tr>\n",
       "      <th>1</th>\n",
       "      <td>Berczy Park</td>\n",
       "      <td>43.644771</td>\n",
       "      <td>-79.373306</td>\n",
       "      <td>3</td>\n",
       "      <td>54</td>\n",
       "    </tr>\n",
       "    <tr>\n",
       "      <th>2</th>\n",
       "      <td>Brockton, Exhibition Place, Parkdale Village</td>\n",
       "      <td>43.636847</td>\n",
       "      <td>-79.428191</td>\n",
       "      <td>4</td>\n",
       "      <td>20</td>\n",
       "    </tr>\n",
       "    <tr>\n",
       "      <th>3</th>\n",
       "      <td>Business reply mail Processing Centre969 Eastern</td>\n",
       "      <td>43.662744</td>\n",
       "      <td>-79.321558</td>\n",
       "      <td>4</td>\n",
       "      <td>17</td>\n",
       "    </tr>\n",
       "    <tr>\n",
       "      <th>4</th>\n",
       "      <td>CN Tower, Bathurst Quay, Island airport, Harbo...</td>\n",
       "      <td>43.628947</td>\n",
       "      <td>-79.394420</td>\n",
       "      <td>4</td>\n",
       "      <td>13</td>\n",
       "    </tr>\n",
       "  </tbody>\n",
       "</table>\n",
       "</div>"
      ],
      "text/plain": [
       "                                        Neighborhood   Latitude  Longitude  \\\n",
       "0                           Adelaide, King, Richmond  43.650571 -79.384568   \n",
       "1                                        Berczy Park  43.644771 -79.373306   \n",
       "2       Brockton, Exhibition Place, Parkdale Village  43.636847 -79.428191   \n",
       "3   Business reply mail Processing Centre969 Eastern  43.662744 -79.321558   \n",
       "4  CN Tower, Bathurst Quay, Island airport, Harbo...  43.628947 -79.394420   \n",
       "\n",
       "   Cluster Labels  number of venues  \n",
       "0               0               100  \n",
       "1               3                54  \n",
       "2               4                20  \n",
       "3               4                17  \n",
       "4               4                13  "
      ]
     },
     "execution_count": 21,
     "metadata": {},
     "output_type": "execute_result"
    }
   ],
   "source": [
    "toronto_merged = toronto_data\n",
    "\n",
    "# add clustering labels and number of venues\n",
    "toronto_merged['Cluster Labels'] = kmeans.labels_\n",
    "toronto_merged['number of venues'] = toronto_grouped[['Venue']].values\n",
    "\n",
    "toronto_merged.head()"
   ]
  },
  {
   "cell_type": "markdown",
   "metadata": {},
   "source": [
    "##### finally show the map of central Toronto with neighborhoods clustered according to the number of venues. For example the different clusters may indicate areas that are more quiet (less venues) or areas with higher traffic (more venues)."
   ]
  },
  {
   "cell_type": "code",
   "execution_count": 22,
   "metadata": {},
   "outputs": [
    {
     "data": {
      "text/html": [
       "<div style=\"width:100%;\"><div style=\"position:relative;width:100%;height:0;padding-bottom:60%;\"><iframe src=\"data:text/html;charset=utf-8;base64,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\" style=\"position:absolute;width:100%;height:100%;left:0;top:0;border:none !important;\" allowfullscreen webkitallowfullscreen mozallowfullscreen></iframe></div></div>"
      ],
      "text/plain": [
       "<folium.folium.Map at 0x2b3f7351a8d0>"
      ]
     },
     "execution_count": 22,
     "metadata": {},
     "output_type": "execute_result"
    }
   ],
   "source": [
    "import numpy as np\n",
    "import matplotlib.cm as cm\n",
    "import matplotlib.colors as colors\n",
    "# create map\n",
    "map_clusters = folium.Map(location=[latitude, longitude], zoom_start=12)\n",
    "\n",
    "# set color scheme for the clusters\n",
    "x = np.arange(kclusters)\n",
    "ys = [i+x+(i*x)**2 for i in range(kclusters)]\n",
    "colors_array = cm.rainbow(np.linspace(0, 1, len(ys)))\n",
    "rainbow = [colors.rgb2hex(i) for i in colors_array]\n",
    "\n",
    "# add markers to the map\n",
    "markers_colors = []\n",
    "for lat, lon, poi, cluster, ven in zip(toronto_merged['Latitude'], toronto_merged['Longitude'], toronto_merged['Neighborhood'], toronto_merged['Cluster Labels'], toronto_merged['number of venues']):\n",
    "    label = folium.Popup(str(poi) + ' Cluster: ' + str(cluster) + ' #Venues: ' + str(ven), parse_html=True)\n",
    "    folium.CircleMarker(\n",
    "        [lat, lon],\n",
    "        radius=5,\n",
    "        popup=label,\n",
    "        color=rainbow[cluster-1],\n",
    "        fill=True,\n",
    "        fill_color=rainbow[cluster-1],\n",
    "        fill_opacity=0.7).add_to(map_clusters)\n",
    "       \n",
    "map_clusters"
   ]
  }
 ],
 "metadata": {
  "kernelspec": {
   "display_name": "Python 3.5",
   "language": "python",
   "name": "python3"
  },
  "language_info": {
   "codemirror_mode": {
    "name": "ipython",
    "version": 3
   },
   "file_extension": ".py",
   "mimetype": "text/x-python",
   "name": "python",
   "nbconvert_exporter": "python",
   "pygments_lexer": "ipython3",
   "version": "3.5.5"
  }
 },
 "nbformat": 4,
 "nbformat_minor": 1
}
