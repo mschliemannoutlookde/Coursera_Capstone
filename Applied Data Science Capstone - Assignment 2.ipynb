{
 "cells": [
  {
   "cell_type": "markdown",
   "metadata": {
    "collapsed": true
   },
   "source": [
    "## Assignment Clustering & Segmenting Neighborhoods in the City of Toronto"
   ]
  },
  {
   "cell_type": "markdown",
   "metadata": {},
   "source": [
    "___\n",
    "### Task No.1\n",
    "Prepare a dataframe with wikipedia data about Toronto postal codes, boroughs and neighborhoods"
   ]
  },
  {
   "cell_type": "markdown",
   "metadata": {},
   "source": [
    "##### 1) Retrieve information about Toronto neighborhoods from wikipedia using BeautifulSoup and store it in a list (values[])"
   ]
  },
  {
   "cell_type": "code",
   "execution_count": 1,
   "metadata": {},
   "outputs": [],
   "source": [
    "import requests\n",
    "from bs4 import BeautifulSoup\n",
    "values=[]\n",
    "url='https://en.wikipedia.org/wiki/List_of_postal_codes_of_Canada:_M'\n",
    "\n",
    "results = requests.get(url)\n",
    "\n",
    "soup = BeautifulSoup(results.text, 'html.parser')\n",
    "\n",
    "for cell in soup.find_all('td'):\n",
    "    values.append(cell.string) if (cell.a==None) else values.append(cell.a.string)"
   ]
  },
  {
   "cell_type": "markdown",
   "metadata": {},
   "source": [
    "##### 2) slice information from the list into a pandas dataframe"
   ]
  },
  {
   "cell_type": "code",
   "execution_count": 2,
   "metadata": {},
   "outputs": [
    {
     "data": {
      "text/html": [
       "<div>\n",
       "<style scoped>\n",
       "    .dataframe tbody tr th:only-of-type {\n",
       "        vertical-align: middle;\n",
       "    }\n",
       "\n",
       "    .dataframe tbody tr th {\n",
       "        vertical-align: top;\n",
       "    }\n",
       "\n",
       "    .dataframe thead th {\n",
       "        text-align: right;\n",
       "    }\n",
       "</style>\n",
       "<table border=\"1\" class=\"dataframe\">\n",
       "  <thead>\n",
       "    <tr style=\"text-align: right;\">\n",
       "      <th></th>\n",
       "      <th>PostalCode</th>\n",
       "      <th>Borough</th>\n",
       "      <th>Neighborhood</th>\n",
       "    </tr>\n",
       "  </thead>\n",
       "  <tbody>\n",
       "    <tr>\n",
       "      <th>0</th>\n",
       "      <td>M1A</td>\n",
       "      <td>Not assigned</td>\n",
       "      <td>Not assigned</td>\n",
       "    </tr>\n",
       "    <tr>\n",
       "      <th>1</th>\n",
       "      <td>M2A</td>\n",
       "      <td>Not assigned</td>\n",
       "      <td>Not assigned</td>\n",
       "    </tr>\n",
       "    <tr>\n",
       "      <th>2</th>\n",
       "      <td>M3A</td>\n",
       "      <td>North York</td>\n",
       "      <td>Parkwoods</td>\n",
       "    </tr>\n",
       "    <tr>\n",
       "      <th>3</th>\n",
       "      <td>M4A</td>\n",
       "      <td>North York</td>\n",
       "      <td>Victoria Village</td>\n",
       "    </tr>\n",
       "    <tr>\n",
       "      <th>4</th>\n",
       "      <td>M5A</td>\n",
       "      <td>Downtown Toronto</td>\n",
       "      <td>Harbourfront</td>\n",
       "    </tr>\n",
       "  </tbody>\n",
       "</table>\n",
       "</div>"
      ],
      "text/plain": [
       "  PostalCode           Borough      Neighborhood\n",
       "0        M1A      Not assigned     Not assigned\n",
       "\n",
       "1        M2A      Not assigned     Not assigned\n",
       "\n",
       "2        M3A        North York         Parkwoods\n",
       "3        M4A        North York  Victoria Village\n",
       "4        M5A  Downtown Toronto      Harbourfront"
      ]
     },
     "execution_count": 2,
     "metadata": {},
     "output_type": "execute_result"
    }
   ],
   "source": [
    "import pandas as pd\n",
    "\n",
    "zip_values=pd.DataFrame()\n",
    "zip_values['PostalCode']=values[0:867:3]\n",
    "zip_values['Borough']=values[1:867:3]\n",
    "zip_values['Neighborhood']=values[2:867:3]\n",
    "zip_values.head()"
   ]
  },
  {
   "cell_type": "markdown",
   "metadata": {},
   "source": [
    "##### 3) Drop rows with boroughs = 'Not assigned' / 4) copy borough's name to neighborhoods with 'Not assigned' / 5) combine rows with same neighborhood"
   ]
  },
  {
   "cell_type": "code",
   "execution_count": 3,
   "metadata": {},
   "outputs": [],
   "source": [
    "# drop rows\n",
    "drop_indices=zip_values[zip_values['Borough']=='Not assigned'].index\n",
    "zip_values.drop(drop_indices, axis=0, inplace=True)\n",
    "\n",
    "# copy borough names\n",
    "copy_indices=zip_values[zip_values['Neighborhood']=='Not assigned\\n'].index\n",
    "zip_values.loc[copy_indices,'Neighborhood']=zip_values.loc[copy_indices,'Borough']\n",
    "\n",
    "# combine neighborhood names\n",
    "values=[]\n",
    "for name, group in zip_values.groupby(zip_values['PostalCode']):\n",
    "    values.append([name,group.iloc[0,1],', '.join(group['Neighborhood'].values.tolist()).replace('\\n','')]) \n",
    "zip_values_new=pd.DataFrame(values, columns=['PostalCode', 'Borough', 'Neighborhood'])"
   ]
  },
  {
   "cell_type": "markdown",
   "metadata": {},
   "source": [
    "##### final dataframe (first 10 rows)"
   ]
  },
  {
   "cell_type": "code",
   "execution_count": 4,
   "metadata": {},
   "outputs": [
    {
     "data": {
      "text/html": [
       "<div>\n",
       "<style scoped>\n",
       "    .dataframe tbody tr th:only-of-type {\n",
       "        vertical-align: middle;\n",
       "    }\n",
       "\n",
       "    .dataframe tbody tr th {\n",
       "        vertical-align: top;\n",
       "    }\n",
       "\n",
       "    .dataframe thead th {\n",
       "        text-align: right;\n",
       "    }\n",
       "</style>\n",
       "<table border=\"1\" class=\"dataframe\">\n",
       "  <thead>\n",
       "    <tr style=\"text-align: right;\">\n",
       "      <th></th>\n",
       "      <th>PostalCode</th>\n",
       "      <th>Borough</th>\n",
       "      <th>Neighborhood</th>\n",
       "    </tr>\n",
       "  </thead>\n",
       "  <tbody>\n",
       "    <tr>\n",
       "      <th>0</th>\n",
       "      <td>M1B</td>\n",
       "      <td>Scarborough</td>\n",
       "      <td>Rouge, Malvern</td>\n",
       "    </tr>\n",
       "    <tr>\n",
       "      <th>1</th>\n",
       "      <td>M1C</td>\n",
       "      <td>Scarborough</td>\n",
       "      <td>Highland Creek, Rouge Hill, Port Union</td>\n",
       "    </tr>\n",
       "    <tr>\n",
       "      <th>2</th>\n",
       "      <td>M1E</td>\n",
       "      <td>Scarborough</td>\n",
       "      <td>Guildwood, Morningside, West Hill</td>\n",
       "    </tr>\n",
       "    <tr>\n",
       "      <th>3</th>\n",
       "      <td>M1G</td>\n",
       "      <td>Scarborough</td>\n",
       "      <td>Woburn</td>\n",
       "    </tr>\n",
       "    <tr>\n",
       "      <th>4</th>\n",
       "      <td>M1H</td>\n",
       "      <td>Scarborough</td>\n",
       "      <td>Cedarbrae</td>\n",
       "    </tr>\n",
       "    <tr>\n",
       "      <th>5</th>\n",
       "      <td>M1J</td>\n",
       "      <td>Scarborough</td>\n",
       "      <td>Scarborough Village</td>\n",
       "    </tr>\n",
       "    <tr>\n",
       "      <th>6</th>\n",
       "      <td>M1K</td>\n",
       "      <td>Scarborough</td>\n",
       "      <td>East Birchmount Park, Ionview, Kennedy Park</td>\n",
       "    </tr>\n",
       "    <tr>\n",
       "      <th>7</th>\n",
       "      <td>M1L</td>\n",
       "      <td>Scarborough</td>\n",
       "      <td>Clairlea, Golden Mile, Oakridge</td>\n",
       "    </tr>\n",
       "    <tr>\n",
       "      <th>8</th>\n",
       "      <td>M1M</td>\n",
       "      <td>Scarborough</td>\n",
       "      <td>Cliffcrest, Cliffside, Scarborough Village West</td>\n",
       "    </tr>\n",
       "    <tr>\n",
       "      <th>9</th>\n",
       "      <td>M1N</td>\n",
       "      <td>Scarborough</td>\n",
       "      <td>Birch Cliff, Cliffside West</td>\n",
       "    </tr>\n",
       "  </tbody>\n",
       "</table>\n",
       "</div>"
      ],
      "text/plain": [
       "  PostalCode      Borough                                     Neighborhood\n",
       "0        M1B  Scarborough                                   Rouge, Malvern\n",
       "1        M1C  Scarborough           Highland Creek, Rouge Hill, Port Union\n",
       "2        M1E  Scarborough                Guildwood, Morningside, West Hill\n",
       "3        M1G  Scarborough                                           Woburn\n",
       "4        M1H  Scarborough                                        Cedarbrae\n",
       "5        M1J  Scarborough                              Scarborough Village\n",
       "6        M1K  Scarborough      East Birchmount Park, Ionview, Kennedy Park\n",
       "7        M1L  Scarborough                  Clairlea, Golden Mile, Oakridge\n",
       "8        M1M  Scarborough  Cliffcrest, Cliffside, Scarborough Village West\n",
       "9        M1N  Scarborough                      Birch Cliff, Cliffside West"
      ]
     },
     "execution_count": 4,
     "metadata": {},
     "output_type": "execute_result"
    }
   ],
   "source": [
    "zip_values_new.head(10)"
   ]
  },
  {
   "cell_type": "markdown",
   "metadata": {},
   "source": [
    "##### shape of dataframe: 103 rows / 3 columns"
   ]
  },
  {
   "cell_type": "code",
   "execution_count": 5,
   "metadata": {},
   "outputs": [
    {
     "data": {
      "text/plain": [
       "(103, 3)"
      ]
     },
     "execution_count": 5,
     "metadata": {},
     "output_type": "execute_result"
    }
   ],
   "source": [
    "zip_values_new.shape"
   ]
  },
  {
   "cell_type": "markdown",
   "metadata": {},
   "source": [
    "___\n",
    "### Task No.2\n",
    "Add geographical coordinates to each row of the dataset"
   ]
  },
  {
   "cell_type": "code",
   "execution_count": 6,
   "metadata": {},
   "outputs": [
    {
     "name": "stdout",
     "output_type": "stream",
     "text": [
      "--2019-01-02 09:13:18--  http://cocl.us/Geospatial_data\n",
      "Resolving cocl.us (cocl.us)... 169.48.113.201\n",
      "Connecting to cocl.us (cocl.us)|169.48.113.201|:80... connected.\n",
      "HTTP request sent, awaiting response... 301 Moved Permanently\n",
      "Location: https://cocl.us/Geospatial_data [following]\n",
      "--2019-01-02 09:13:18--  https://cocl.us/Geospatial_data\n",
      "Connecting to cocl.us (cocl.us)|169.48.113.201|:443... connected.\n",
      "HTTP request sent, awaiting response... 301 Moved Permanently\n",
      "Location: https://ibm.box.com/shared/static/9afzr83pps4pwf2smjjcf1y5mvgb18rr.csv [following]\n",
      "--2019-01-02 09:13:19--  https://ibm.box.com/shared/static/9afzr83pps4pwf2smjjcf1y5mvgb18rr.csv\n",
      "Resolving ibm.box.com (ibm.box.com)... 107.152.26.197\n",
      "Connecting to ibm.box.com (ibm.box.com)|107.152.26.197|:443... connected.\n",
      "HTTP request sent, awaiting response... 301 Moved Permanently\n",
      "Location: https://ibm.ent.box.com/shared/static/9afzr83pps4pwf2smjjcf1y5mvgb18rr.csv [following]\n",
      "--2019-01-02 09:13:19--  https://ibm.ent.box.com/shared/static/9afzr83pps4pwf2smjjcf1y5mvgb18rr.csv\n",
      "Resolving ibm.ent.box.com (ibm.ent.box.com)... 107.152.26.211\n",
      "Connecting to ibm.ent.box.com (ibm.ent.box.com)|107.152.26.211|:443... connected.\n",
      "HTTP request sent, awaiting response... 302 Found\n",
      "Location: https://public.boxcloud.com/d/1/b1!nMQt1t-P_xThgJJXi1oTU1BIT2BcQBMMLqm31NFvKq6zwJuOK3P0IYbFRZsEAGnX1-zVuBEaASFYR_lz3DMF-ItRVjCC4j_-8oAt510gWmWuaFUtZuxHz6SPZ_lEfz1ya-8uBYTDcPCvE02Modyth_E3yR4sg-BV-5Zm7LufvAyf-BgDVkNHq1XCzE8LqR2T3AQ5j3rZrVNS2B4-yy_QUE1PxqTr51-zlnUh1j201lRvg2EtoWp7J-ufk4n9ynRjZdSvbVlBTcfiEA1LhCQ54IgVTk0AvNV4dxSL6wV8X88gkjLJfFZzjs6iq4qh2lpS1KPpd0fnvQwdCyBU6TKItN4N9euGnhxkJ9-bJFu2L_H65_u_jVnZ3gX7_clr52YWl-64FdZuQ7Zqkr0oVIjnHXriHAtf9sA9Pe7oPTiLH2qc3QgE1lrTAyCBHR5F5UE-jy3Eq1atCEVp8akb-IwE-Qz70MlJIsu3Jxk2Yeadbi_5oL8Jt0N-YJrq_mJ8fblxCgZFD_DEki3hYd2kYyZXF7wk4VV0Je2p2TDx8nIq77P9HklRz1b1QjYLZPkL9Z7AhSQUi5y90ukHXfyfUIfPtsDHqAlV5EUEV6dM6xvyrJnVjBwuO73CZzK8R6YPiUCxrBNuFOHTTnLpkqIqURNhFihLO8l39HmDaqInWRVzbo4Noz-j0nnFTbfnDGzlwq68ZO01x79if73_8HrxPbxFJvJEn45wmMr8hIaiP0ZsKNW0T2lCJoWFYyvQtbPKFTfdnlitgbb0Q83A8hUI6CjnvqH1B82GmccVJMbW8eAvrsMNuVwbJUysRdhe22RPI17NQUKsOm2pdOmhmu4VzzwV3v8wCMArtQYWJ-pBJvuuXtcwNiCy1oWW7xXhXZMmIIp2kEzAnG0qz-FCeRic2EXc5X44rchR132hZUo4hKQ_Xh1YccUhO2XxScSAwGxrC_rLc9c370skKsHc7xlk2sEmlU3vmePCKupbR7OuLiSKz0V4IrbDLEzDZKAt05XTqnU31170qxgAozNuBmfKkN9pp5MGBUDIdtLwkz1VMIsJCxjfN6iz3vefaoj5fflQ2zupAghOhegk0I23Z_JbDYl8DeExc2QgCA4SKlrwlHJF-bSwQumm5lhtbTaIx5wKVG3tYgpVyTPq0EC3ZLc4A3lbTdvp8vasrgcsKh9he8axtUug9ODrcK4AaSeLgz_rlepkJGzEiVSGfTL-i7BhUD43W1bK3MCe5GhScImXfhy9lEkUo4tRcTk-PUoFf6MuXyMGT0oHa6B45zxukPM_QeDnQ85ilJBDGb5OP820CBzPzNlR_L3f0iaUWZaNzhd-oVNvurtdpUYMFakU8uMUJoWPefwrNad4fnbZWv2VqQPp2INK91IPBw../download [following]\n",
      "--2019-01-02 09:13:20--  https://public.boxcloud.com/d/1/b1!nMQt1t-P_xThgJJXi1oTU1BIT2BcQBMMLqm31NFvKq6zwJuOK3P0IYbFRZsEAGnX1-zVuBEaASFYR_lz3DMF-ItRVjCC4j_-8oAt510gWmWuaFUtZuxHz6SPZ_lEfz1ya-8uBYTDcPCvE02Modyth_E3yR4sg-BV-5Zm7LufvAyf-BgDVkNHq1XCzE8LqR2T3AQ5j3rZrVNS2B4-yy_QUE1PxqTr51-zlnUh1j201lRvg2EtoWp7J-ufk4n9ynRjZdSvbVlBTcfiEA1LhCQ54IgVTk0AvNV4dxSL6wV8X88gkjLJfFZzjs6iq4qh2lpS1KPpd0fnvQwdCyBU6TKItN4N9euGnhxkJ9-bJFu2L_H65_u_jVnZ3gX7_clr52YWl-64FdZuQ7Zqkr0oVIjnHXriHAtf9sA9Pe7oPTiLH2qc3QgE1lrTAyCBHR5F5UE-jy3Eq1atCEVp8akb-IwE-Qz70MlJIsu3Jxk2Yeadbi_5oL8Jt0N-YJrq_mJ8fblxCgZFD_DEki3hYd2kYyZXF7wk4VV0Je2p2TDx8nIq77P9HklRz1b1QjYLZPkL9Z7AhSQUi5y90ukHXfyfUIfPtsDHqAlV5EUEV6dM6xvyrJnVjBwuO73CZzK8R6YPiUCxrBNuFOHTTnLpkqIqURNhFihLO8l39HmDaqInWRVzbo4Noz-j0nnFTbfnDGzlwq68ZO01x79if73_8HrxPbxFJvJEn45wmMr8hIaiP0ZsKNW0T2lCJoWFYyvQtbPKFTfdnlitgbb0Q83A8hUI6CjnvqH1B82GmccVJMbW8eAvrsMNuVwbJUysRdhe22RPI17NQUKsOm2pdOmhmu4VzzwV3v8wCMArtQYWJ-pBJvuuXtcwNiCy1oWW7xXhXZMmIIp2kEzAnG0qz-FCeRic2EXc5X44rchR132hZUo4hKQ_Xh1YccUhO2XxScSAwGxrC_rLc9c370skKsHc7xlk2sEmlU3vmePCKupbR7OuLiSKz0V4IrbDLEzDZKAt05XTqnU31170qxgAozNuBmfKkN9pp5MGBUDIdtLwkz1VMIsJCxjfN6iz3vefaoj5fflQ2zupAghOhegk0I23Z_JbDYl8DeExc2QgCA4SKlrwlHJF-bSwQumm5lhtbTaIx5wKVG3tYgpVyTPq0EC3ZLc4A3lbTdvp8vasrgcsKh9he8axtUug9ODrcK4AaSeLgz_rlepkJGzEiVSGfTL-i7BhUD43W1bK3MCe5GhScImXfhy9lEkUo4tRcTk-PUoFf6MuXyMGT0oHa6B45zxukPM_QeDnQ85ilJBDGb5OP820CBzPzNlR_L3f0iaUWZaNzhd-oVNvurtdpUYMFakU8uMUJoWPefwrNad4fnbZWv2VqQPp2INK91IPBw../download\n",
      "Resolving public.boxcloud.com (public.boxcloud.com)... 107.152.25.200, 107.152.24.200\n",
      "Connecting to public.boxcloud.com (public.boxcloud.com)|107.152.25.200|:443... connected.\n",
      "HTTP request sent, awaiting response... 200 OK\n",
      "Length: 2891 (2.8K) [text/csv]\n",
      "Saving to: ‘coordinates.csv’\n",
      "\n",
      "100%[======================================>] 2,891       --.-K/s   in 0s      \n",
      "\n",
      "2019-01-02 09:13:20 (455 MB/s) - ‘coordinates.csv’ saved [2891/2891]\n",
      "\n"
     ]
    }
   ],
   "source": [
    "!wget -O coordinates.csv http://cocl.us/Geospatial_data"
   ]
  },
  {
   "cell_type": "markdown",
   "metadata": {},
   "source": [
    "##### 1) load geographical data from csv file to dataframe"
   ]
  },
  {
   "cell_type": "code",
   "execution_count": 7,
   "metadata": {},
   "outputs": [
    {
     "data": {
      "text/html": [
       "<div>\n",
       "<style scoped>\n",
       "    .dataframe tbody tr th:only-of-type {\n",
       "        vertical-align: middle;\n",
       "    }\n",
       "\n",
       "    .dataframe tbody tr th {\n",
       "        vertical-align: top;\n",
       "    }\n",
       "\n",
       "    .dataframe thead th {\n",
       "        text-align: right;\n",
       "    }\n",
       "</style>\n",
       "<table border=\"1\" class=\"dataframe\">\n",
       "  <thead>\n",
       "    <tr style=\"text-align: right;\">\n",
       "      <th></th>\n",
       "      <th>Postal Code</th>\n",
       "      <th>Latitude</th>\n",
       "      <th>Longitude</th>\n",
       "    </tr>\n",
       "  </thead>\n",
       "  <tbody>\n",
       "    <tr>\n",
       "      <th>0</th>\n",
       "      <td>M1B</td>\n",
       "      <td>43.806686</td>\n",
       "      <td>-79.194353</td>\n",
       "    </tr>\n",
       "    <tr>\n",
       "      <th>1</th>\n",
       "      <td>M1C</td>\n",
       "      <td>43.784535</td>\n",
       "      <td>-79.160497</td>\n",
       "    </tr>\n",
       "    <tr>\n",
       "      <th>2</th>\n",
       "      <td>M1E</td>\n",
       "      <td>43.763573</td>\n",
       "      <td>-79.188711</td>\n",
       "    </tr>\n",
       "    <tr>\n",
       "      <th>3</th>\n",
       "      <td>M1G</td>\n",
       "      <td>43.770992</td>\n",
       "      <td>-79.216917</td>\n",
       "    </tr>\n",
       "    <tr>\n",
       "      <th>4</th>\n",
       "      <td>M1H</td>\n",
       "      <td>43.773136</td>\n",
       "      <td>-79.239476</td>\n",
       "    </tr>\n",
       "  </tbody>\n",
       "</table>\n",
       "</div>"
      ],
      "text/plain": [
       "  Postal Code   Latitude  Longitude\n",
       "0         M1B  43.806686 -79.194353\n",
       "1         M1C  43.784535 -79.160497\n",
       "2         M1E  43.763573 -79.188711\n",
       "3         M1G  43.770992 -79.216917\n",
       "4         M1H  43.773136 -79.239476"
      ]
     },
     "execution_count": 7,
     "metadata": {},
     "output_type": "execute_result"
    }
   ],
   "source": [
    "coordinates = pd.read_csv('coordinates.csv')\n",
    "coordinates.head()"
   ]
  },
  {
   "cell_type": "markdown",
   "metadata": {},
   "source": [
    "##### 2) check, if the postal codes in both dataframes are identical"
   ]
  },
  {
   "cell_type": "code",
   "execution_count": 8,
   "metadata": {},
   "outputs": [
    {
     "data": {
      "text/plain": [
       "array([ True,  True,  True,  True,  True,  True,  True,  True,  True,\n",
       "        True,  True,  True,  True,  True,  True,  True,  True,  True,\n",
       "        True,  True,  True,  True,  True,  True,  True,  True,  True,\n",
       "        True,  True,  True,  True,  True,  True,  True,  True,  True,\n",
       "        True,  True,  True,  True,  True,  True,  True,  True,  True,\n",
       "        True,  True,  True,  True,  True,  True,  True,  True,  True,\n",
       "        True,  True,  True,  True,  True,  True,  True,  True,  True,\n",
       "        True,  True,  True,  True,  True,  True,  True,  True,  True,\n",
       "        True,  True,  True,  True,  True,  True,  True,  True,  True,\n",
       "        True,  True,  True,  True,  True,  True,  True,  True,  True,\n",
       "        True,  True,  True,  True,  True,  True,  True,  True,  True,\n",
       "        True,  True,  True,  True], dtype=bool)"
      ]
     },
     "execution_count": 8,
     "metadata": {},
     "output_type": "execute_result"
    }
   ],
   "source": [
    "(zip_values_new['PostalCode']==coordinates['Postal Code']).values"
   ]
  },
  {
   "cell_type": "markdown",
   "metadata": {},
   "source": [
    "##### Yes, they are identical. So we can simply add the columns 'Latitude' and 'Longitude' to the Toronto's neighborhoods dataframe"
   ]
  },
  {
   "cell_type": "code",
   "execution_count": 9,
   "metadata": {},
   "outputs": [
    {
     "data": {
      "text/html": [
       "<div>\n",
       "<style scoped>\n",
       "    .dataframe tbody tr th:only-of-type {\n",
       "        vertical-align: middle;\n",
       "    }\n",
       "\n",
       "    .dataframe tbody tr th {\n",
       "        vertical-align: top;\n",
       "    }\n",
       "\n",
       "    .dataframe thead th {\n",
       "        text-align: right;\n",
       "    }\n",
       "</style>\n",
       "<table border=\"1\" class=\"dataframe\">\n",
       "  <thead>\n",
       "    <tr style=\"text-align: right;\">\n",
       "      <th></th>\n",
       "      <th>PostalCode</th>\n",
       "      <th>Borough</th>\n",
       "      <th>Neighborhood</th>\n",
       "      <th>Latitude</th>\n",
       "      <th>Longitude</th>\n",
       "    </tr>\n",
       "  </thead>\n",
       "  <tbody>\n",
       "    <tr>\n",
       "      <th>0</th>\n",
       "      <td>M1B</td>\n",
       "      <td>Scarborough</td>\n",
       "      <td>Rouge, Malvern</td>\n",
       "      <td>43.806686</td>\n",
       "      <td>-79.194353</td>\n",
       "    </tr>\n",
       "    <tr>\n",
       "      <th>1</th>\n",
       "      <td>M1C</td>\n",
       "      <td>Scarborough</td>\n",
       "      <td>Highland Creek, Rouge Hill, Port Union</td>\n",
       "      <td>43.784535</td>\n",
       "      <td>-79.160497</td>\n",
       "    </tr>\n",
       "    <tr>\n",
       "      <th>2</th>\n",
       "      <td>M1E</td>\n",
       "      <td>Scarborough</td>\n",
       "      <td>Guildwood, Morningside, West Hill</td>\n",
       "      <td>43.763573</td>\n",
       "      <td>-79.188711</td>\n",
       "    </tr>\n",
       "    <tr>\n",
       "      <th>3</th>\n",
       "      <td>M1G</td>\n",
       "      <td>Scarborough</td>\n",
       "      <td>Woburn</td>\n",
       "      <td>43.770992</td>\n",
       "      <td>-79.216917</td>\n",
       "    </tr>\n",
       "    <tr>\n",
       "      <th>4</th>\n",
       "      <td>M1H</td>\n",
       "      <td>Scarborough</td>\n",
       "      <td>Cedarbrae</td>\n",
       "      <td>43.773136</td>\n",
       "      <td>-79.239476</td>\n",
       "    </tr>\n",
       "    <tr>\n",
       "      <th>5</th>\n",
       "      <td>M1J</td>\n",
       "      <td>Scarborough</td>\n",
       "      <td>Scarborough Village</td>\n",
       "      <td>43.744734</td>\n",
       "      <td>-79.239476</td>\n",
       "    </tr>\n",
       "    <tr>\n",
       "      <th>6</th>\n",
       "      <td>M1K</td>\n",
       "      <td>Scarborough</td>\n",
       "      <td>East Birchmount Park, Ionview, Kennedy Park</td>\n",
       "      <td>43.727929</td>\n",
       "      <td>-79.262029</td>\n",
       "    </tr>\n",
       "    <tr>\n",
       "      <th>7</th>\n",
       "      <td>M1L</td>\n",
       "      <td>Scarborough</td>\n",
       "      <td>Clairlea, Golden Mile, Oakridge</td>\n",
       "      <td>43.711112</td>\n",
       "      <td>-79.284577</td>\n",
       "    </tr>\n",
       "    <tr>\n",
       "      <th>8</th>\n",
       "      <td>M1M</td>\n",
       "      <td>Scarborough</td>\n",
       "      <td>Cliffcrest, Cliffside, Scarborough Village West</td>\n",
       "      <td>43.716316</td>\n",
       "      <td>-79.239476</td>\n",
       "    </tr>\n",
       "    <tr>\n",
       "      <th>9</th>\n",
       "      <td>M1N</td>\n",
       "      <td>Scarborough</td>\n",
       "      <td>Birch Cliff, Cliffside West</td>\n",
       "      <td>43.692657</td>\n",
       "      <td>-79.264848</td>\n",
       "    </tr>\n",
       "  </tbody>\n",
       "</table>\n",
       "</div>"
      ],
      "text/plain": [
       "  PostalCode      Borough                                     Neighborhood  \\\n",
       "0        M1B  Scarborough                                   Rouge, Malvern   \n",
       "1        M1C  Scarborough           Highland Creek, Rouge Hill, Port Union   \n",
       "2        M1E  Scarborough                Guildwood, Morningside, West Hill   \n",
       "3        M1G  Scarborough                                           Woburn   \n",
       "4        M1H  Scarborough                                        Cedarbrae   \n",
       "5        M1J  Scarborough                              Scarborough Village   \n",
       "6        M1K  Scarborough      East Birchmount Park, Ionview, Kennedy Park   \n",
       "7        M1L  Scarborough                  Clairlea, Golden Mile, Oakridge   \n",
       "8        M1M  Scarborough  Cliffcrest, Cliffside, Scarborough Village West   \n",
       "9        M1N  Scarborough                      Birch Cliff, Cliffside West   \n",
       "\n",
       "    Latitude  Longitude  \n",
       "0  43.806686 -79.194353  \n",
       "1  43.784535 -79.160497  \n",
       "2  43.763573 -79.188711  \n",
       "3  43.770992 -79.216917  \n",
       "4  43.773136 -79.239476  \n",
       "5  43.744734 -79.239476  \n",
       "6  43.727929 -79.262029  \n",
       "7  43.711112 -79.284577  \n",
       "8  43.716316 -79.239476  \n",
       "9  43.692657 -79.264848  "
      ]
     },
     "execution_count": 9,
     "metadata": {},
     "output_type": "execute_result"
    }
   ],
   "source": [
    "zip_values_new['Latitude']=coordinates['Latitude']\n",
    "zip_values_new['Longitude']=coordinates['Longitude']\n",
    "zip_values_new.head(10)"
   ]
  },
  {
   "cell_type": "markdown",
   "metadata": {},
   "source": [
    "___\n",
    "### Task No.3\n",
    "Explore and cluster the neighborhoods of Toronto"
   ]
  },
  {
   "cell_type": "code",
   "execution_count": 10,
   "metadata": {},
   "outputs": [
    {
     "name": "stdout",
     "output_type": "stream",
     "text": [
      "The geograpical coordinate of Toronto are 43.653963, -79.387207.\n"
     ]
    }
   ],
   "source": [
    "from geopy.geocoders import Nominatim\n",
    "address = 'Toronto, Canada'\n",
    "\n",
    "geolocator = Nominatim()\n",
    "location = geolocator.geocode(address)\n",
    "latitude = location.latitude\n",
    "longitude = location.longitude\n",
    "print('The geograpical coordinate of Toronto are {}, {}.'.format(latitude, longitude))"
   ]
  },
  {
   "cell_type": "code",
   "execution_count": 11,
   "metadata": {},
   "outputs": [
    {
     "name": "stdout",
     "output_type": "stream",
     "text": [
      "Fetching package metadata .............\n",
      "Solving package specifications: .\n",
      "\n",
      "# All requested packages already installed.\n",
      "# packages in environment at /opt/conda/envs/DSX-Python35:\n",
      "#\n",
      "folium                    0.5.0                      py_0    conda-forge\n"
     ]
    },
    {
     "data": {
      "text/html": [
       "<div style=\"width:100%;\"><div style=\"position:relative;width:100%;height:0;padding-bottom:60%;\"><iframe src=\"data:text/html;charset=utf-8;base64,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\" style=\"position:absolute;width:100%;height:100%;left:0;top:0;border:none !important;\" allowfullscreen webkitallowfullscreen mozallowfullscreen></iframe></div></div>"
      ],
      "text/plain": [
       "<folium.folium.Map at 0x2b261e026748>"
      ]
     },
     "execution_count": 11,
     "metadata": {},
     "output_type": "execute_result"
    }
   ],
   "source": [
    "!conda install -c conda-forge folium=0.5.0 --yes # uncomment this line if you haven't completed the Foursquare API lab\n",
    "import folium\n",
    "# create map of Toronto using latitude and longitude values\n",
    "map_toronto = folium.Map(location=[latitude, longitude], zoom_start=10)\n",
    "\n",
    "# add markers to map\n",
    "for lat, lng, borough, neighborhood in zip(zip_values_new['Latitude'], zip_values_new['Longitude'], zip_values_new['Borough'], zip_values_new['Neighborhood']):\n",
    "    label = '{} ({})'.format(neighborhood, borough)\n",
    "    label = folium.Popup(label, parse_html=True)\n",
    "    marker=folium.CircleMarker(\n",
    "        [lat, lng],\n",
    "        radius=5,\n",
    "        popup=label,\n",
    "        color='blue',\n",
    "        fill=True,\n",
    "        fill_color='#3186cc',\n",
    "        fill_opacity=0.7,\n",
    "        parse_html=False).add_to(map_toronto)  \n",
    "   \n",
    "map_toronto"
   ]
  },
  {
   "cell_type": "markdown",
   "metadata": {},
   "source": [
    "#####  Explore subset of data. Boroughs must contain the string 'Toronto'"
   ]
  },
  {
   "cell_type": "code",
   "execution_count": 12,
   "metadata": {},
   "outputs": [
    {
     "data": {
      "text/html": [
       "<div>\n",
       "<style scoped>\n",
       "    .dataframe tbody tr th:only-of-type {\n",
       "        vertical-align: middle;\n",
       "    }\n",
       "\n",
       "    .dataframe tbody tr th {\n",
       "        vertical-align: top;\n",
       "    }\n",
       "\n",
       "    .dataframe thead th {\n",
       "        text-align: right;\n",
       "    }\n",
       "</style>\n",
       "<table border=\"1\" class=\"dataframe\">\n",
       "  <thead>\n",
       "    <tr style=\"text-align: right;\">\n",
       "      <th></th>\n",
       "      <th>PostalCode</th>\n",
       "      <th>Borough</th>\n",
       "      <th>Neighborhood</th>\n",
       "      <th>Latitude</th>\n",
       "      <th>Longitude</th>\n",
       "    </tr>\n",
       "  </thead>\n",
       "  <tbody>\n",
       "    <tr>\n",
       "      <th>37</th>\n",
       "      <td>M4E</td>\n",
       "      <td>East Toronto</td>\n",
       "      <td>The Beaches</td>\n",
       "      <td>43.676357</td>\n",
       "      <td>-79.293031</td>\n",
       "    </tr>\n",
       "    <tr>\n",
       "      <th>41</th>\n",
       "      <td>M4K</td>\n",
       "      <td>East Toronto</td>\n",
       "      <td>The Danforth West, Riverdale</td>\n",
       "      <td>43.679557</td>\n",
       "      <td>-79.352188</td>\n",
       "    </tr>\n",
       "    <tr>\n",
       "      <th>42</th>\n",
       "      <td>M4L</td>\n",
       "      <td>East Toronto</td>\n",
       "      <td>The Beaches West, India Bazaar</td>\n",
       "      <td>43.668999</td>\n",
       "      <td>-79.315572</td>\n",
       "    </tr>\n",
       "    <tr>\n",
       "      <th>43</th>\n",
       "      <td>M4M</td>\n",
       "      <td>East Toronto</td>\n",
       "      <td>Studio District</td>\n",
       "      <td>43.659526</td>\n",
       "      <td>-79.340923</td>\n",
       "    </tr>\n",
       "    <tr>\n",
       "      <th>44</th>\n",
       "      <td>M4N</td>\n",
       "      <td>Central Toronto</td>\n",
       "      <td>Lawrence Park</td>\n",
       "      <td>43.728020</td>\n",
       "      <td>-79.388790</td>\n",
       "    </tr>\n",
       "  </tbody>\n",
       "</table>\n",
       "</div>"
      ],
      "text/plain": [
       "   PostalCode          Borough                    Neighborhood   Latitude  \\\n",
       "37        M4E     East Toronto                     The Beaches  43.676357   \n",
       "41        M4K     East Toronto    The Danforth West, Riverdale  43.679557   \n",
       "42        M4L     East Toronto  The Beaches West, India Bazaar  43.668999   \n",
       "43        M4M     East Toronto                 Studio District  43.659526   \n",
       "44        M4N  Central Toronto                   Lawrence Park  43.728020   \n",
       "\n",
       "    Longitude  \n",
       "37 -79.293031  \n",
       "41 -79.352188  \n",
       "42 -79.315572  \n",
       "43 -79.340923  \n",
       "44 -79.388790  "
      ]
     },
     "execution_count": 12,
     "metadata": {},
     "output_type": "execute_result"
    }
   ],
   "source": [
    "# create a dataframe only with Boroughs containing 'Toronto'\n",
    "toronto_data=zip_values_new[zip_values_new['Borough'].str.contains('Toronto', regex=False)]\n",
    "toronto_data.head()"
   ]
  },
  {
   "cell_type": "markdown",
   "metadata": {},
   "source": [
    "##### prepare toronto_data, so that it fits the next steps"
   ]
  },
  {
   "cell_type": "code",
   "execution_count": 13,
   "metadata": {},
   "outputs": [
    {
     "data": {
      "text/html": [
       "<div>\n",
       "<style scoped>\n",
       "    .dataframe tbody tr th:only-of-type {\n",
       "        vertical-align: middle;\n",
       "    }\n",
       "\n",
       "    .dataframe tbody tr th {\n",
       "        vertical-align: top;\n",
       "    }\n",
       "\n",
       "    .dataframe thead th {\n",
       "        text-align: right;\n",
       "    }\n",
       "</style>\n",
       "<table border=\"1\" class=\"dataframe\">\n",
       "  <thead>\n",
       "    <tr style=\"text-align: right;\">\n",
       "      <th></th>\n",
       "      <th>Neighborhood</th>\n",
       "      <th>Latitude</th>\n",
       "      <th>Longitude</th>\n",
       "    </tr>\n",
       "  </thead>\n",
       "  <tbody>\n",
       "    <tr>\n",
       "      <th>0</th>\n",
       "      <td>Adelaide, King, Richmond</td>\n",
       "      <td>43.650571</td>\n",
       "      <td>-79.384568</td>\n",
       "    </tr>\n",
       "    <tr>\n",
       "      <th>1</th>\n",
       "      <td>Berczy Park</td>\n",
       "      <td>43.644771</td>\n",
       "      <td>-79.373306</td>\n",
       "    </tr>\n",
       "    <tr>\n",
       "      <th>2</th>\n",
       "      <td>Brockton, Exhibition Place, Parkdale Village</td>\n",
       "      <td>43.636847</td>\n",
       "      <td>-79.428191</td>\n",
       "    </tr>\n",
       "    <tr>\n",
       "      <th>3</th>\n",
       "      <td>Business reply mail Processing Centre969 Eastern</td>\n",
       "      <td>43.662744</td>\n",
       "      <td>-79.321558</td>\n",
       "    </tr>\n",
       "    <tr>\n",
       "      <th>4</th>\n",
       "      <td>CN Tower, Bathurst Quay, Island airport, Harbo...</td>\n",
       "      <td>43.628947</td>\n",
       "      <td>-79.394420</td>\n",
       "    </tr>\n",
       "  </tbody>\n",
       "</table>\n",
       "</div>"
      ],
      "text/plain": [
       "                                        Neighborhood   Latitude  Longitude\n",
       "0                           Adelaide, King, Richmond  43.650571 -79.384568\n",
       "1                                        Berczy Park  43.644771 -79.373306\n",
       "2       Brockton, Exhibition Place, Parkdale Village  43.636847 -79.428191\n",
       "3   Business reply mail Processing Centre969 Eastern  43.662744 -79.321558\n",
       "4  CN Tower, Bathurst Quay, Island airport, Harbo...  43.628947 -79.394420"
      ]
     },
     "execution_count": 13,
     "metadata": {},
     "output_type": "execute_result"
    }
   ],
   "source": [
    "toronto_data=toronto_data.iloc[:,2:].sort_values(by=['Neighborhood']).reset_index(drop=True)\n",
    "toronto_data.head()"
   ]
  },
  {
   "cell_type": "markdown",
   "metadata": {},
   "source": [
    "##### use the function from the course lab to get the top 100 venues for each neighborhood from toronto_data"
   ]
  },
  {
   "cell_type": "code",
   "execution_count": 14,
   "metadata": {},
   "outputs": [],
   "source": [
    "def getNearbyVenues(names, latitudes, longitudes, radius=500):\n",
    "    \n",
    "    venues_list=[]\n",
    "    for name, lat, lng in zip(names, latitudes, longitudes):\n",
    "        print(name)\n",
    "            \n",
    "        # create the API request URL\n",
    "        url = 'https://api.foursquare.com/v2/venues/explore?&client_id={}&client_secret={}&v={}&ll={},{}&radius={}&limit={}'.format(\n",
    "            CLIENT_ID, \n",
    "            CLIENT_SECRET, \n",
    "            VERSION, \n",
    "            lat, \n",
    "            lng, \n",
    "            radius, \n",
    "            LIMIT)\n",
    "            \n",
    "        # make the GET request\n",
    "        try:\n",
    "            results = requests.get(url).json()[\"response\"]['groups'][0]['items']\n",
    "        except:\n",
    "            results = []\n",
    "        \n",
    "        # return only relevant information for each nearby venue\n",
    "        venues_list.append([(\n",
    "            name, \n",
    "            lat, \n",
    "            lng, \n",
    "            v['venue']['name'], \n",
    "            v['venue']['location']['lat'], \n",
    "            v['venue']['location']['lng'],  \n",
    "            v['venue']['categories'][0]['name']) for v in results])\n",
    "\n",
    "    nearby_venues = pd.DataFrame([item for venue_list in venues_list for item in venue_list])\n",
    "    nearby_venues.columns = ['Neighborhood', \n",
    "                  'Neighborhood Latitude', \n",
    "                  'Neighborhood Longitude', \n",
    "                  'Venue', \n",
    "                  'Venue Latitude', \n",
    "                  'Venue Longitude', \n",
    "                  'Venue Category']\n",
    "    \n",
    "    return(nearby_venues)"
   ]
  },
  {
   "cell_type": "markdown",
   "metadata": {},
   "source": [
    "##### the following is a hidden cell containing credentials for foursquare"
   ]
  },
  {
   "cell_type": "code",
   "execution_count": 15,
   "metadata": {},
   "outputs": [],
   "source": [
    "# @hidden_cell\n",
    "CLIENT_ID = 'UDXWBI3T2ADNDBEGUGFXJ32WKOEL5NFN0BTGZOJYK5PHYJOR' # your Foursquare ID\n",
    "CLIENT_SECRET = 'A01EAGHRGXQJ5R52NWKVFAZKXWNV4V5QAMEFXEKZHARHSP1J' # your Foursquare Secret\n",
    "VERSION = '20180605' # Foursquare API version\n",
    "LIMIT = 100"
   ]
  },
  {
   "cell_type": "markdown",
   "metadata": {},
   "source": [
    "##### feed the toronto data into the previous function and get the top 100 venues for each neighborhood"
   ]
  },
  {
   "cell_type": "code",
   "execution_count": 16,
   "metadata": {},
   "outputs": [
    {
     "name": "stdout",
     "output_type": "stream",
     "text": [
      "Adelaide, King, Richmond\n",
      "Berczy Park\n",
      "Brockton, Exhibition Place, Parkdale Village\n",
      "Business reply mail Processing Centre969 Eastern\n",
      "CN Tower, Bathurst Quay, Island airport, Harbourfront West, King and Spadina, Railway Lands, South Niagara\n",
      "Cabbagetown, St. James Town\n",
      "Central Bay Street\n",
      "Chinatown, Grange Park, Kensington Market\n",
      "Christie\n",
      "Church and Wellesley\n",
      "Commerce Court, Victoria Hotel\n",
      "Davisville\n",
      "Davisville North\n",
      "Deer Park, Forest Hill SE, Rathnelly, South Hill, Summerhill West\n",
      "Design Exchange, Toronto Dominion Centre\n",
      "Dovercourt Village, Dufferin\n",
      "First Canadian Place, Underground city\n",
      "Forest Hill North, Forest Hill West\n",
      "Harbord, University of Toronto\n",
      "Harbourfront East, Toronto Islands, Union Station\n",
      "Harbourfront, Regent Park\n",
      "High Park, The Junction South\n",
      "Lawrence Park\n",
      "Little Portugal, Trinity\n",
      "Moore Park, Summerhill East\n",
      "North Toronto West\n",
      "Parkdale, Roncesvalles\n",
      "Rosedale\n",
      "Roselawn\n",
      "Runnymede, Swansea\n",
      "Ryerson, Garden District\n",
      "St. James Town\n",
      "Stn A PO Boxes 25 The Esplanade\n",
      "Studio District\n",
      "The Annex, North Midtown, Yorkville\n",
      "The Beaches\n",
      "The Beaches West, India Bazaar\n",
      "The Danforth West, Riverdale\n"
     ]
    }
   ],
   "source": [
    "toronto_venues = getNearbyVenues(names=toronto_data['Neighborhood'],\n",
    "                                   latitudes=toronto_data['Latitude'],\n",
    "                                   longitudes=toronto_data['Longitude']\n",
    "                                  )"
   ]
  },
  {
   "cell_type": "markdown",
   "metadata": {},
   "source": [
    "##### let's check size and content of the dataframe"
   ]
  },
  {
   "cell_type": "code",
   "execution_count": 17,
   "metadata": {},
   "outputs": [
    {
     "name": "stdout",
     "output_type": "stream",
     "text": [
      "(1701, 7)\n"
     ]
    },
    {
     "data": {
      "text/html": [
       "<div>\n",
       "<style scoped>\n",
       "    .dataframe tbody tr th:only-of-type {\n",
       "        vertical-align: middle;\n",
       "    }\n",
       "\n",
       "    .dataframe tbody tr th {\n",
       "        vertical-align: top;\n",
       "    }\n",
       "\n",
       "    .dataframe thead th {\n",
       "        text-align: right;\n",
       "    }\n",
       "</style>\n",
       "<table border=\"1\" class=\"dataframe\">\n",
       "  <thead>\n",
       "    <tr style=\"text-align: right;\">\n",
       "      <th></th>\n",
       "      <th>Neighborhood</th>\n",
       "      <th>Neighborhood Latitude</th>\n",
       "      <th>Neighborhood Longitude</th>\n",
       "      <th>Venue</th>\n",
       "      <th>Venue Latitude</th>\n",
       "      <th>Venue Longitude</th>\n",
       "      <th>Venue Category</th>\n",
       "    </tr>\n",
       "  </thead>\n",
       "  <tbody>\n",
       "    <tr>\n",
       "      <th>0</th>\n",
       "      <td>Adelaide, King, Richmond</td>\n",
       "      <td>43.650571</td>\n",
       "      <td>-79.384568</td>\n",
       "      <td>Four Seasons Centre for the Performing Arts</td>\n",
       "      <td>43.650609</td>\n",
       "      <td>-79.386280</td>\n",
       "      <td>Concert Hall</td>\n",
       "    </tr>\n",
       "    <tr>\n",
       "      <th>1</th>\n",
       "      <td>Adelaide, King, Richmond</td>\n",
       "      <td>43.650571</td>\n",
       "      <td>-79.384568</td>\n",
       "      <td>Nathan Phillips Square</td>\n",
       "      <td>43.652270</td>\n",
       "      <td>-79.383516</td>\n",
       "      <td>Plaza</td>\n",
       "    </tr>\n",
       "    <tr>\n",
       "      <th>2</th>\n",
       "      <td>Adelaide, King, Richmond</td>\n",
       "      <td>43.650571</td>\n",
       "      <td>-79.384568</td>\n",
       "      <td>The Keg Steakhouse &amp; Bar</td>\n",
       "      <td>43.649937</td>\n",
       "      <td>-79.384196</td>\n",
       "      <td>Steakhouse</td>\n",
       "    </tr>\n",
       "    <tr>\n",
       "      <th>3</th>\n",
       "      <td>Adelaide, King, Richmond</td>\n",
       "      <td>43.650571</td>\n",
       "      <td>-79.384568</td>\n",
       "      <td>Shangri-La Toronto</td>\n",
       "      <td>43.649129</td>\n",
       "      <td>-79.386557</td>\n",
       "      <td>Hotel</td>\n",
       "    </tr>\n",
       "    <tr>\n",
       "      <th>4</th>\n",
       "      <td>Adelaide, King, Richmond</td>\n",
       "      <td>43.650571</td>\n",
       "      <td>-79.384568</td>\n",
       "      <td>Estiatorio Volos</td>\n",
       "      <td>43.650329</td>\n",
       "      <td>-79.384533</td>\n",
       "      <td>Greek Restaurant</td>\n",
       "    </tr>\n",
       "  </tbody>\n",
       "</table>\n",
       "</div>"
      ],
      "text/plain": [
       "               Neighborhood  Neighborhood Latitude  Neighborhood Longitude  \\\n",
       "0  Adelaide, King, Richmond              43.650571              -79.384568   \n",
       "1  Adelaide, King, Richmond              43.650571              -79.384568   \n",
       "2  Adelaide, King, Richmond              43.650571              -79.384568   \n",
       "3  Adelaide, King, Richmond              43.650571              -79.384568   \n",
       "4  Adelaide, King, Richmond              43.650571              -79.384568   \n",
       "\n",
       "                                         Venue  Venue Latitude  \\\n",
       "0  Four Seasons Centre for the Performing Arts       43.650609   \n",
       "1                       Nathan Phillips Square       43.652270   \n",
       "2                     The Keg Steakhouse & Bar       43.649937   \n",
       "3                           Shangri-La Toronto       43.649129   \n",
       "4                             Estiatorio Volos       43.650329   \n",
       "\n",
       "   Venue Longitude    Venue Category  \n",
       "0       -79.386280      Concert Hall  \n",
       "1       -79.383516             Plaza  \n",
       "2       -79.384196        Steakhouse  \n",
       "3       -79.386557             Hotel  \n",
       "4       -79.384533  Greek Restaurant  "
      ]
     },
     "execution_count": 17,
     "metadata": {},
     "output_type": "execute_result"
    }
   ],
   "source": [
    "print(toronto_venues.shape)\n",
    "toronto_venues.head()"
   ]
  },
  {
   "cell_type": "markdown",
   "metadata": {},
   "source": [
    "##### let's see how many venues were found per neighborhood"
   ]
  },
  {
   "cell_type": "code",
   "execution_count": 18,
   "metadata": {},
   "outputs": [
    {
     "data": {
      "text/plain": [
       "Neighborhood\n",
       "Adelaide, King, Richmond                                                                                      100\n",
       "Berczy Park                                                                                                    54\n",
       "Brockton, Exhibition Place, Parkdale Village                                                                   20\n",
       "Business reply mail Processing Centre969 Eastern                                                               17\n",
       "CN Tower, Bathurst Quay, Island airport, Harbourfront West, King and Spadina, Railway Lands, South Niagara     13\n",
       "Cabbagetown, St. James Town                                                                                    49\n",
       "Central Bay Street                                                                                             85\n",
       "Chinatown, Grange Park, Kensington Market                                                                     100\n",
       "Christie                                                                                                       16\n",
       "Church and Wellesley                                                                                           88\n",
       "Commerce Court, Victoria Hotel                                                                                100\n",
       "Davisville                                                                                                     32\n",
       "Davisville North                                                                                                8\n",
       "Deer Park, Forest Hill SE, Rathnelly, South Hill, Summerhill West                                              14\n",
       "Design Exchange, Toronto Dominion Centre                                                                      100\n",
       "Dovercourt Village, Dufferin                                                                                   22\n",
       "First Canadian Place, Underground city                                                                        100\n",
       "Forest Hill North, Forest Hill West                                                                             5\n",
       "Harbord, University of Toronto                                                                                 33\n",
       "Harbourfront East, Toronto Islands, Union Station                                                             100\n",
       "Harbourfront, Regent Park                                                                                      48\n",
       "High Park, The Junction South                                                                                  24\n",
       "Lawrence Park                                                                                                   4\n",
       "Little Portugal, Trinity                                                                                       64\n",
       "Moore Park, Summerhill East                                                                                     3\n",
       "North Toronto West                                                                                             20\n",
       "Parkdale, Roncesvalles                                                                                         16\n",
       "Rosedale                                                                                                        4\n",
       "Roselawn                                                                                                        1\n",
       "Runnymede, Swansea                                                                                             36\n",
       "Ryerson, Garden District                                                                                      100\n",
       "St. James Town                                                                                                100\n",
       "Stn A PO Boxes 25 The Esplanade                                                                                96\n",
       "Studio District                                                                                                39\n",
       "The Annex, North Midtown, Yorkville                                                                            24\n",
       "The Beaches                                                                                                     4\n",
       "The Beaches West, India Bazaar                                                                                 20\n",
       "The Danforth West, Riverdale                                                                                   42\n",
       "Name: Venue, dtype: int64"
      ]
     },
     "execution_count": 18,
     "metadata": {},
     "output_type": "execute_result"
    }
   ],
   "source": [
    "toronto_venues.groupby('Neighborhood').count().iloc[:,2]"
   ]
  },
  {
   "cell_type": "markdown",
   "metadata": {},
   "source": [
    "##### make a dataframe out of it"
   ]
  },
  {
   "cell_type": "code",
   "execution_count": 19,
   "metadata": {},
   "outputs": [
    {
     "data": {
      "text/html": [
       "<div>\n",
       "<style scoped>\n",
       "    .dataframe tbody tr th:only-of-type {\n",
       "        vertical-align: middle;\n",
       "    }\n",
       "\n",
       "    .dataframe tbody tr th {\n",
       "        vertical-align: top;\n",
       "    }\n",
       "\n",
       "    .dataframe thead th {\n",
       "        text-align: right;\n",
       "    }\n",
       "</style>\n",
       "<table border=\"1\" class=\"dataframe\">\n",
       "  <thead>\n",
       "    <tr style=\"text-align: right;\">\n",
       "      <th></th>\n",
       "      <th>Venue</th>\n",
       "    </tr>\n",
       "    <tr>\n",
       "      <th>Neighborhood</th>\n",
       "      <th></th>\n",
       "    </tr>\n",
       "  </thead>\n",
       "  <tbody>\n",
       "    <tr>\n",
       "      <th>Adelaide, King, Richmond</th>\n",
       "      <td>100</td>\n",
       "    </tr>\n",
       "    <tr>\n",
       "      <th>Berczy Park</th>\n",
       "      <td>54</td>\n",
       "    </tr>\n",
       "    <tr>\n",
       "      <th>Brockton, Exhibition Place, Parkdale Village</th>\n",
       "      <td>20</td>\n",
       "    </tr>\n",
       "    <tr>\n",
       "      <th>Business reply mail Processing Centre969 Eastern</th>\n",
       "      <td>17</td>\n",
       "    </tr>\n",
       "    <tr>\n",
       "      <th>CN Tower, Bathurst Quay, Island airport, Harbourfront West, King and Spadina, Railway Lands, South Niagara</th>\n",
       "      <td>13</td>\n",
       "    </tr>\n",
       "  </tbody>\n",
       "</table>\n",
       "</div>"
      ],
      "text/plain": [
       "                                                    Venue\n",
       "Neighborhood                                             \n",
       "Adelaide, King, Richmond                              100\n",
       "Berczy Park                                            54\n",
       "Brockton, Exhibition Place, Parkdale Village           20\n",
       "Business reply mail Processing Centre969 Eastern       17\n",
       "CN Tower, Bathurst Quay, Island airport, Harbou...     13"
      ]
     },
     "execution_count": 19,
     "metadata": {},
     "output_type": "execute_result"
    }
   ],
   "source": [
    "toronto_grouped=pd.DataFrame(toronto_venues.groupby('Neighborhood').count().iloc[:,2])\n",
    "toronto_grouped.head()"
   ]
  },
  {
   "cell_type": "markdown",
   "metadata": {},
   "source": [
    "##### let's cluster the neighborhoods according to the number of venues they have, using K-Means"
   ]
  },
  {
   "cell_type": "code",
   "execution_count": 20,
   "metadata": {},
   "outputs": [
    {
     "data": {
      "text/plain": [
       "array([0, 3, 4, 4, 4, 3, 0, 0, 4, 0, 0, 1, 2, 4, 0, 4, 0, 2, 1, 0, 3, 4, 2,\n",
       "       3, 2, 4, 4, 2, 2, 1, 0, 0, 0, 1, 4, 2, 4, 1], dtype=int32)"
      ]
     },
     "execution_count": 20,
     "metadata": {},
     "output_type": "execute_result"
    }
   ],
   "source": [
    "from sklearn.cluster import KMeans\n",
    "\n",
    "# set number of clusters\n",
    "kclusters = 5\n",
    "\n",
    "# run k-means clustering\n",
    "kmeans = KMeans(n_clusters=kclusters, random_state=0).fit(toronto_grouped)\n",
    "\n",
    "# check cluster labels generated for each row in the dataframe\n",
    "kmeans.labels_"
   ]
  },
  {
   "cell_type": "markdown",
   "metadata": {},
   "source": [
    "##### show neighborhoods together with number of venues and cluster labels."
   ]
  },
  {
   "cell_type": "code",
   "execution_count": 21,
   "metadata": {},
   "outputs": [
    {
     "data": {
      "text/html": [
       "<div>\n",
       "<style scoped>\n",
       "    .dataframe tbody tr th:only-of-type {\n",
       "        vertical-align: middle;\n",
       "    }\n",
       "\n",
       "    .dataframe tbody tr th {\n",
       "        vertical-align: top;\n",
       "    }\n",
       "\n",
       "    .dataframe thead th {\n",
       "        text-align: right;\n",
       "    }\n",
       "</style>\n",
       "<table border=\"1\" class=\"dataframe\">\n",
       "  <thead>\n",
       "    <tr style=\"text-align: right;\">\n",
       "      <th></th>\n",
       "      <th>Neighborhood</th>\n",
       "      <th>Latitude</th>\n",
       "      <th>Longitude</th>\n",
       "      <th>Cluster Labels</th>\n",
       "      <th>number of venues</th>\n",
       "    </tr>\n",
       "  </thead>\n",
       "  <tbody>\n",
       "    <tr>\n",
       "      <th>0</th>\n",
       "      <td>Adelaide, King, Richmond</td>\n",
       "      <td>43.650571</td>\n",
       "      <td>-79.384568</td>\n",
       "      <td>0</td>\n",
       "      <td>100</td>\n",
       "    </tr>\n",
       "    <tr>\n",
       "      <th>1</th>\n",
       "      <td>Berczy Park</td>\n",
       "      <td>43.644771</td>\n",
       "      <td>-79.373306</td>\n",
       "      <td>3</td>\n",
       "      <td>54</td>\n",
       "    </tr>\n",
       "    <tr>\n",
       "      <th>2</th>\n",
       "      <td>Brockton, Exhibition Place, Parkdale Village</td>\n",
       "      <td>43.636847</td>\n",
       "      <td>-79.428191</td>\n",
       "      <td>4</td>\n",
       "      <td>20</td>\n",
       "    </tr>\n",
       "    <tr>\n",
       "      <th>3</th>\n",
       "      <td>Business reply mail Processing Centre969 Eastern</td>\n",
       "      <td>43.662744</td>\n",
       "      <td>-79.321558</td>\n",
       "      <td>4</td>\n",
       "      <td>17</td>\n",
       "    </tr>\n",
       "    <tr>\n",
       "      <th>4</th>\n",
       "      <td>CN Tower, Bathurst Quay, Island airport, Harbo...</td>\n",
       "      <td>43.628947</td>\n",
       "      <td>-79.394420</td>\n",
       "      <td>4</td>\n",
       "      <td>13</td>\n",
       "    </tr>\n",
       "  </tbody>\n",
       "</table>\n",
       "</div>"
      ],
      "text/plain": [
       "                                        Neighborhood   Latitude  Longitude  \\\n",
       "0                           Adelaide, King, Richmond  43.650571 -79.384568   \n",
       "1                                        Berczy Park  43.644771 -79.373306   \n",
       "2       Brockton, Exhibition Place, Parkdale Village  43.636847 -79.428191   \n",
       "3   Business reply mail Processing Centre969 Eastern  43.662744 -79.321558   \n",
       "4  CN Tower, Bathurst Quay, Island airport, Harbo...  43.628947 -79.394420   \n",
       "\n",
       "   Cluster Labels  number of venues  \n",
       "0               0               100  \n",
       "1               3                54  \n",
       "2               4                20  \n",
       "3               4                17  \n",
       "4               4                13  "
      ]
     },
     "execution_count": 21,
     "metadata": {},
     "output_type": "execute_result"
    }
   ],
   "source": [
    "toronto_merged = toronto_data\n",
    "\n",
    "# add clustering labels and number of venues\n",
    "toronto_merged['Cluster Labels'] = kmeans.labels_\n",
    "toronto_merged['number of venues'] = toronto_grouped[['Venue']].values\n",
    "\n",
    "toronto_merged.head()"
   ]
  },
  {
   "cell_type": "markdown",
   "metadata": {},
   "source": [
    "##### finally show the map of central Toronto with neighborhoods clustered according to the number of venues. For example the different clusters may indicate areas that are more quiet (less venues) or areas with higher traffic (more venues)."
   ]
  },
  {
   "cell_type": "code",
   "execution_count": 22,
   "metadata": {},
   "outputs": [
    {
     "data": {
      "text/html": [
       "<div style=\"width:100%;\"><div style=\"position:relative;width:100%;height:0;padding-bottom:60%;\"><iframe src=\"data:text/html;charset=utf-8;base64,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\" style=\"position:absolute;width:100%;height:100%;left:0;top:0;border:none !important;\" allowfullscreen webkitallowfullscreen mozallowfullscreen></iframe></div></div>"
      ],
      "text/plain": [
       "<folium.folium.Map at 0x2b265a3968d0>"
      ]
     },
     "execution_count": 22,
     "metadata": {},
     "output_type": "execute_result"
    }
   ],
   "source": [
    "import numpy as np\n",
    "import matplotlib.cm as cm\n",
    "import matplotlib.colors as colors\n",
    "# create map\n",
    "map_clusters = folium.Map(location=[latitude, longitude], zoom_start=12)\n",
    "\n",
    "# set color scheme for the clusters\n",
    "x = np.arange(kclusters)\n",
    "ys = [i+x+(i*x)**2 for i in range(kclusters)]\n",
    "colors_array = cm.rainbow(np.linspace(0, 1, len(ys)))\n",
    "rainbow = [colors.rgb2hex(i) for i in colors_array]\n",
    "\n",
    "# add markers to the map\n",
    "markers_colors = []\n",
    "for lat, lon, poi, cluster, ven in zip(toronto_merged['Latitude'], toronto_merged['Longitude'], toronto_merged['Neighborhood'], toronto_merged['Cluster Labels'], toronto_merged['number of venues']):\n",
    "    label = folium.Popup(str(poi) + ' Cluster: ' + str(cluster) + ' #Venues: ' + str(ven), parse_html=True)\n",
    "    folium.CircleMarker(\n",
    "        [lat, lon],\n",
    "        radius=5,\n",
    "        popup=label,\n",
    "        color=rainbow[cluster-1],\n",
    "        fill=True,\n",
    "        fill_color=rainbow[cluster-1],\n",
    "        fill_opacity=0.7).add_to(map_clusters)\n",
    "       \n",
    "map_clusters"
   ]
  }
 ],
 "metadata": {
  "kernelspec": {
   "display_name": "Python 3.5",
   "language": "python",
   "name": "python3"
  },
  "language_info": {
   "codemirror_mode": {
    "name": "ipython",
    "version": 3
   },
   "file_extension": ".py",
   "mimetype": "text/x-python",
   "name": "python",
   "nbconvert_exporter": "python",
   "pygments_lexer": "ipython3",
   "version": "3.5.5"
  }
 },
 "nbformat": 4,
 "nbformat_minor": 1
}
