{
    "nbformat_minor": 1, 
    "cells": [
        {
            "source": "# Capstone Project: 'The Battle Of Neighborhoods'\n## Coursera Data Science\n", 
            "cell_type": "markdown", 
            "metadata": {
                "collapsed": true
            }
        }, 
        {
            "source": "\n> ## Project Report\n", 
            "cell_type": "markdown", 
            "metadata": {}
        }, 
        {
            "source": "### A) Introduction\nThe goal of this project is to examine the characteristics of different neighborhoods in my hometown Berlin. <br><br>\n_Some facts first:_ Berlin consists of 12 boroughs (called 'Bezirke') and 96 neighborhoods (called 'Ortsteile') which are further divided into 195 smaller districts (called 'Ortslagen'). Many of these areas have developed in an individual way, influenced by geographical circumstances (e.g. east/west differences) or by the particular influx from people from all over the country and from many parts of the world. <br><br>\n_Question 1:_ So given the fact that Berlin is an in-homogeneously grown, intercultural and diverse place, how can we describe the different characteristics of its 'parts'? <br><br>This question shall be answered in this project by means of Data Science. But in this diffuse form we can not immediately start working on it. So let's make some concretization. <br> \n* First of all let's specify the term 'parts': In order to get meaningful and representative results let's focus on neighborhoods ('Ortsteile') that meet certain criteria like 'size > x' or 'population > y'. The details are described later in this report. <br>\n* Second, what does 'characterization' mean? For the purpose of this project 'characterizing a place X' should be understood as 'find a well-known place that X is similar to'.\n\nThis leads to... <br>\n_Question 2:_ For all neighborhoods of Berlin that meet certain criteria, can we find similarities to other well-known places? <br><br>\nThis again leads to the question: What are well-known places and what does similar mean? For the first part let's simply take major cities like London, Paris, Tokyo etc (specified later in this report). The second part is much more difficult. When does a place resemble e.g. London? A lot of parameters come into play, like:\n* population density\n* life style\n* diversity / intercultural things\n* traffic / public transportation\n* pollution\n* architecture\n* noisiness\n* etc....\n\nFor the course of this project let's focus on the life-style parameter. We will use the foursquare API to get a sense of what life is at a certain place - like are there coffee shops, gyms, museums, parks, and so on. <br>\nSo the question of this project is: <br><br>\n_PROJECT QUESTION:_ Do the main neighborhoods of Berlin (selected by criteria) resemble cities like London, Paris, Tokyo, Madrid, ... (specified list) in terms of presence of venue's like coffee shops, sushi bars, pizza restaurants , ... (provided by foursquare). <br><br>\nFinally and most important: Who is interested in a question like this? <br><br>\n\n  Party  | Why interested?\n  ------------- | -------------\nTourism Marketing  | creating interesting tours\nTourists  | Sightseeing\nPeople moving to Berlin | focused apartment search\ncity hall | urban development\narchitects | engaging in certain areas\n\n", 
            "cell_type": "markdown", 
            "metadata": {}
        }, 
        {
            "source": "### B) Data\n__A)__ Data: Berlin Data - boroughs and neighborhoods <br>\nFormat: html <br>\nSource: wikipedia https://de.wikipedia.org/wiki/Liste_der_Bezirke_und_Ortsteile_Berlins<br>\n<br>\n__B)__ Data: Location Data <br>\nFormat: geopy.geocoders.Nominatim _result(float)_<br>\nSource: geopy API <br>\n<br>\n__C)__ Data: Venue Data <br>\nFormat: json <br>\nSource: foursquare API <br>\n<br>\n__D)__ Data: City coordinates <br>\nFormat: _manual_ <br>\nSource: https://www.laengengrad-breitengrad.de/ <br>", 
            "cell_type": "markdown", 
            "metadata": {}
        }, 
        {
            "execution_count": null, 
            "cell_type": "code", 
            "metadata": {}, 
            "outputs": [], 
            "source": ""
        }
    ], 
    "metadata": {
        "kernelspec": {
            "display_name": "Python 3.5", 
            "name": "python3", 
            "language": "python"
        }, 
        "language_info": {
            "mimetype": "text/x-python", 
            "nbconvert_exporter": "python", 
            "version": "3.5.5", 
            "name": "python", 
            "file_extension": ".py", 
            "pygments_lexer": "ipython3", 
            "codemirror_mode": {
                "version": 3, 
                "name": "ipython"
            }
        }
    }, 
    "nbformat": 4
}